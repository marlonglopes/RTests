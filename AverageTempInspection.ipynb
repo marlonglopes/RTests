{
 "cells": [
  {
   "cell_type": "code",
   "execution_count": 1,
   "metadata": {
    "collapsed": false
   },
   "outputs": [
    {
     "name": "stderr",
     "output_type": "stream",
     "text": [
      "Loading required package: dplyr\n",
      "\n",
      "Attaching package: ‘dplyr’\n",
      "\n",
      "The following objects are masked from ‘package:stats’:\n",
      "\n",
      "    filter, lag\n",
      "\n",
      "The following objects are masked from ‘package:base’:\n",
      "\n",
      "    intersect, setdiff, setequal, union\n",
      "\n",
      "Loading required package: tidyr\n",
      "Loading required package: ggplot2\n",
      "Loading required package: lubridate\n",
      "\n",
      "Attaching package: ‘lubridate’\n",
      "\n",
      "The following object is masked from ‘package:base’:\n",
      "\n",
      "    date\n",
      "\n"
     ]
    }
   ],
   "source": [
    "if (!require(\"dplyr\")) { install.packages(\"dplyr\", lib='/R/library', repos='http://cran.us.r-project.org') }\n",
    "if (!require(\"tidyr\")) { install.packages(\"tidyr\", lib='/R/library', repos='http://cran.us.r-project.org') }\n",
    "if (!require(\"ggplot2\")) { install.packages(\"ggplot2\", lib='/R/library', repos='http://cran.us.r-project.org') }\n",
    "if (!require(\"lubridate\")) { install.packages(\"lubridate\", lib='/R/library', repos='http://cran.us.r-project.org') }"
   ]
  },
  {
   "cell_type": "code",
   "execution_count": 4,
   "metadata": {
    "collapsed": false
   },
   "outputs": [
    {
     "name": "stdout",
     "output_type": "stream",
     "text": [
      "'data.frame':\t1211693 obs. of  22 variables:\n",
      " $ event_RowNumber: num  1.58e+10 1.58e+10 1.58e+10 1.58e+10 1.58e+10 ...\n",
      " $ event_press    : int  45000586 45000586 45000586 45000586 45000586 45000586 45000586 45000588 45000588 45000075 ...\n",
      " $ Product_Line   : Factor w/ 3 levels \"HP Indigo 7000\",..: 3 3 3 3 3 3 3 3 3 3 ...\n",
      " $ series         : Factor w/ 1 level \"7000 Family Sheet Fed Commercial Press\": 1 1 1 1 1 1 1 1 1 1 ...\n",
      " $ Region         : Factor w/ 2 levels \"Europe, Middle East & Africa\",..: 2 2 2 2 2 2 2 1 1 1 ...\n",
      " $ SubRegion      : Factor w/ 15 levels \"Benelux\",\"Canada\",..: 9 9 9 9 9 9 9 14 14 5 ...\n",
      " $ District       : Factor w/ 12 levels \"BELGIUM\",\"Canada\",..: 12 12 12 12 12 12 12 11 11 3 ...\n",
      " $ Ownership      : Factor w/ 1 level \"DIRECT\": 1 1 1 1 1 1 1 1 1 1 ...\n",
      " $ event_recNum   : int  739828 739878 740037 740221 740224 740554 740770 1417945 1418352 744504 ...\n",
      " $ event_date     : chr  \"2016-06-08 00:00:00.000\" \"2016-06-08 00:00:00.000\" \"2016-06-08 00:00:00.000\" \"2016-06-08 00:00:00.000\" ...\n",
      " $ event_time     : int  74703 75903 84709 93603 95930 120644 132213 3605 32335 64706 ...\n",
      " $ event_name     : Factor w/ 1 level \"SAMPLE_PIP_AND_IMO_PARAMETERS\": 1 1 1 1 1 1 1 1 1 1 ...\n",
      " $ event_state    : Factor w/ 5 levels \"HOLD_STATE\",\"OFF_STATE\",..: 3 3 4 4 4 4 4 4 4 4 ...\n",
      " $ full_time      : POSIXct, format: \"2016-06-08 07:47:03\" \"2016-06-08 07:59:03\" ...\n",
      " $ PIP_Temperature: int  302 298 287 279 268 278 280 289 278 241 ...\n",
      " $ IO_temperature : int  242 243 243 240 240 286 248 256 252 240 ...\n",
      " $ IO_dirtiness   : int  825 825 825 825 825 825 825 738 738 998 ...\n",
      " $ vessel_flow    : int  4092 4170 NA NA NA NA NA NA NA NA ...\n",
      " $ IO_Conductivity: int  4 4 NA NA NA NA NA NA NA NA ...\n",
      " $ CS_Voltage     : int  1846 1846 1846 1846 1846 1846 1846 2106 2106 2000 ...\n",
      " $ Delta_Pressure : int  64 64 64 64 64 0 64 0 0 0 ...\n",
      " $ SWv            : Ord.factor w/ 13 levels \"V8_4_3_i30 I-Fix 2_i18\"<..: 12 12 12 12 12 12 12 12 12 9 ...\n"
     ]
    }
   ],
   "source": [
    "load('IndigoData.dat')\n",
    "str(data)"
   ]
  },
  {
   "cell_type": "code",
   "execution_count": 5,
   "metadata": {
    "collapsed": false
   },
   "outputs": [
    {
     "ename": "ERROR",
     "evalue": "Error in vapply(df, class, FUN.VALUE = character(1L)): values must be length 1,\n but FUN(X[[21]]) result is length 2\n",
     "output_type": "error",
     "traceback": [
      "Error in vapply(df, class, FUN.VALUE = character(1L)): values must be length 1,\n but FUN(X[[21]]) result is length 2\nTraceback:\n",
      "1. tryCatch({\n .     for (mime in getOption(\"jupyter.display_mimetypes\")) {\n .         r <- mime2repr[[mime]](obj)\n .         if (!is.null(r)) \n .             data[[mime]] <- r\n .     }\n . }, error = handle_error)"
     ]
    },
    {
     "data": {
      "text/plain": [
       "  event_RowNumber event_press   Product_Line\n",
       "1     15765585098    45000586 HP Indigo 7600\n",
       "2     15765585142    45000586 HP Indigo 7600\n",
       "3     15765585284    45000586 HP Indigo 7600\n",
       "4     15765585445    45000586 HP Indigo 7600\n",
       "5     15765585448    45000586 HP Indigo 7600\n",
       "6     15765585740    45000586 HP Indigo 7600\n",
       "                                  series        Region\n",
       "1 7000 Family Sheet Fed Commercial Press North America\n",
       "2 7000 Family Sheet Fed Commercial Press North America\n",
       "3 7000 Family Sheet Fed Commercial Press North America\n",
       "4 7000 Family Sheet Fed Commercial Press North America\n",
       "5 7000 Family Sheet Fed Commercial Press North America\n",
       "6 7000 Family Sheet Fed Commercial Press North America\n",
       "                  SubRegion      District Ownership event_recNum\n",
       "1 MidAtlantic United States UNITED STATES    DIRECT       739828\n",
       "2 MidAtlantic United States UNITED STATES    DIRECT       739878\n",
       "3 MidAtlantic United States UNITED STATES    DIRECT       740037\n",
       "4 MidAtlantic United States UNITED STATES    DIRECT       740221\n",
       "5 MidAtlantic United States UNITED STATES    DIRECT       740224\n",
       "6 MidAtlantic United States UNITED STATES    DIRECT       740554\n",
       "               event_date ⋯ event_state           full_time PIP_Temperature\n",
       "1 2016-06-08 00:00:00.000 ⋯ PRINT_STATE 2016-06-08 07:47:03             302\n",
       "2 2016-06-08 00:00:00.000 ⋯ PRINT_STATE 2016-06-08 07:59:03             298\n",
       "3 2016-06-08 00:00:00.000 ⋯ READY_STATE 2016-06-08 08:47:09             287\n",
       "4 2016-06-08 00:00:00.000 ⋯ READY_STATE 2016-06-08 09:36:03             279\n",
       "5 2016-06-08 00:00:00.000 ⋯ READY_STATE 2016-06-08 09:59:30             268\n",
       "6 2016-06-08 00:00:00.000 ⋯ READY_STATE 2016-06-08 12:06:44             278\n",
       "  IO_temperature IO_dirtiness vessel_flow IO_Conductivity CS_Voltage\n",
       "1            242          825        4092               4       1846\n",
       "2            243          825        4170               4       1846\n",
       "3            243          825          NA              NA       1846\n",
       "4            240          825          NA              NA       1846\n",
       "5            240          825          NA              NA       1846\n",
       "6            286          825          NA              NA       1846\n",
       "  Delta_Pressure                   SWv\n",
       "1             64 V11_4_i40 I-Fix 1_i11\n",
       "2             64 V11_4_i40 I-Fix 1_i11\n",
       "3             64 V11_4_i40 I-Fix 1_i11\n",
       "4             64 V11_4_i40 I-Fix 1_i11\n",
       "5             64 V11_4_i40 I-Fix 1_i11\n",
       "6              0 V11_4_i40 I-Fix 1_i11"
      ]
     },
     "metadata": {},
     "output_type": "display_data"
    }
   ],
   "source": [
    "head(data)"
   ]
  },
  {
   "cell_type": "code",
   "execution_count": null,
   "metadata": {
    "collapsed": true
   },
   "outputs": [],
   "source": [
    "describe"
   ]
  }
 ],
 "metadata": {
  "kernelspec": {
   "display_name": "R",
   "language": "R",
   "name": "ir"
  },
  "language_info": {
   "codemirror_mode": "r",
   "file_extension": ".r",
   "mimetype": "text/x-r-source",
   "name": "R",
   "pygments_lexer": "r",
   "version": "3.3.1"
  }
 },
 "nbformat": 4,
 "nbformat_minor": 0
}
