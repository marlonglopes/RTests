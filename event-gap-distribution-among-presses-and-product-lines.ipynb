{
 "cells": [
  {
   "cell_type": "markdown",
   "metadata": {},
   "source": [
    "## Event gap distribution among presses and product lines"
   ]
  },
  {
   "cell_type": "markdown",
   "metadata": {},
   "source": [
    "## 1. Loading libraries"
   ]
  },
  {
   "cell_type": "code",
   "execution_count": 8,
   "metadata": {
    "collapsed": false
   },
   "outputs": [],
   "source": [
    "library(dplyr)\n",
    "library(ggplot2)\n",
    "library(tidyr)\n",
    "library(stats)"
   ]
  },
  {
   "cell_type": "markdown",
   "metadata": {},
   "source": [
    "## 2. Loading data"
   ]
  },
  {
   "cell_type": "code",
   "execution_count": 9,
   "metadata": {
    "collapsed": false
   },
   "outputs": [
    {
     "name": "stdout",
     "output_type": "stream",
     "text": [
      "Observations: 1,211,693\n",
      "Variables: 22\n",
      "$ event_RowNumber (dbl) 15765585098, 15765585142, 15765585284, 15765585445,...\n",
      "$ event_press     (int) 45000586, 45000586, 45000586, 45000586, 45000586, 4...\n",
      "$ Product_Line    (fctr) HP Indigo 7600, HP Indigo 7600, HP Indigo 7600, HP...\n",
      "$ series          (fctr) 7000 Family Sheet Fed Commercial Press, 7000 Famil...\n",
      "$ Region          (fctr) North America, North America, North America, North...\n",
      "$ SubRegion       (fctr) MidAtlantic United States, MidAtlantic United Stat...\n",
      "$ District        (fctr) UNITED STATES, UNITED STATES, UNITED STATES, UNITE...\n",
      "$ Ownership       (fctr) DIRECT, DIRECT, DIRECT, DIRECT, DIRECT, DIRECT, DI...\n",
      "$ event_recNum    (int) 739828, 739878, 740037, 740221, 740224, 740554, 740...\n",
      "$ event_date      (chr) \"2016-06-08 00:00:00.000\", \"2016-06-08 00:00:00.000...\n",
      "$ event_time      (int) 74703, 75903, 84709, 93603, 95930, 120644, 132213, ...\n",
      "$ event_name      (fctr) SAMPLE_PIP_AND_IMO_PARAMETERS, SAMPLE_PIP_AND_IMO_...\n",
      "$ event_state     (fctr) PRINT_STATE, PRINT_STATE, READY_STATE, READY_STATE...\n",
      "$ full_time       (time) 2016-06-08 07:47:03, 2016-06-08 07:59:03, 2016-06-...\n",
      "$ PIP_Temperature (int) 302, 298, 287, 279, 268, 278, 280, 289, 278, 241, 2...\n",
      "$ IO_temperature  (int) 242, 243, 243, 240, 240, 286, 248, 256, 252, 240, 2...\n",
      "$ IO_dirtiness    (int) 825, 825, 825, 825, 825, 825, 825, 738, 738, 998, 9...\n",
      "$ vessel_flow     (int) 4092, 4170, NA, NA, NA, NA, NA, NA, NA, NA, NA, NA,...\n",
      "$ IO_Conductivity (int) 4, 4, NA, NA, NA, NA, NA, NA, NA, NA, NA, NA, NA, N...\n",
      "$ CS_Voltage      (int) 1846, 1846, 1846, 1846, 1846, 1846, 1846, 2106, 210...\n",
      "$ Delta_Pressure  (int) 64, 64, 64, 64, 64, 0, 64, 0, 0, 0, 0, 0, 0, 0, 0, ...\n",
      "$ SWv             (fctr) V11_4_i40 I-Fix 1_i11, V11_4_i40 I-Fix 1_i11, V11_...\n"
     ]
    }
   ],
   "source": [
    "load('IndigoData.dat')\n",
    "glimpse(data)"
   ]
  },
  {
   "cell_type": "markdown",
   "metadata": {},
   "source": [
    "## 3. Preparing data for analysis"
   ]
  },
  {
   "cell_type": "markdown",
   "metadata": {},
   "source": [
    "### 3.1 Calculate daily averages for PRINT_STATE events"
   ]
  },
  {
   "cell_type": "code",
   "execution_count": 45,
   "metadata": {
    "collapsed": false
   },
   "outputs": [],
   "source": [
    "df_print_state_daily <- data %>%\n",
    "    filter(event_state == \"PRINT_STATE\") %>%       \n",
    "    mutate(event_date = as.POSIXct(substr(event_date, 1, 10))) %>%\n",
    "    mutate(event_press = factor(event_press)) %>%\n",
    "    group_by(event_press, event_date) %>%\n",
    "    summarise(\n",
    "        pip_temperature = mean(PIP_Temperature),\n",
    "        io_temperature = mean(IO_temperature),\n",
    "        io_dirtiness = mean(IO_dirtiness),\n",
    "        vessel_flow = mean(vessel_flow),\n",
    "        io_conductivity = mean(IO_Conductivity),\n",
    "        cs_voltage = mean(CS_Voltage),\n",
    "        delta_pressure = mean(Delta_Pressure),\n",
    "        product_line = first(Product_Line)\n",
    "    ) %>% \n",
    "    arrange(event_press, event_date) %>%\n",
    "    select(event_press, product_line, event_date, pip_temperature, io_temperature, \n",
    "           io_dirtiness, vessel_flow, io_conductivity, cs_voltage, delta_pressure) \n",
    "#glimpse(df_print_state_daily)"
   ]
  },
  {
   "cell_type": "markdown",
   "metadata": {},
   "source": [
    "### 3.2 Calculate continuous gaps in time series"
   ]
  },
  {
   "cell_type": "code",
   "execution_count": 67,
   "metadata": {
    "collapsed": false
   },
   "outputs": [
    {
     "name": "stdout",
     "output_type": "stream",
     "text": [
      "Observations: 851\n",
      "Variables: 8\n",
      "$ event_press          (fctr) 40000024, 40000028, 40000034, 40000038, 40000...\n",
      "$ product_line         (fctr) HP Indigo 7000, HP Indigo 7000, HP Indigo 700...\n",
      "$ max_delta_event_date (dbl) 13, 18, 13, 6, 4, 15, 41, 10, 21, 10, 8, 7, 4,...\n",
      "$ min_delta_event_date (dbl) 0, 0, 0, 0, 0, 0, 0, 0, 0, 0, 0, 0, 0, 0, 0, 0...\n",
      "$ number_of_events     (int) 36, 33, 83, 59, 109, 48, 16, 23, 44, 75, 81, 8...\n",
      "$ mean_gap_size        (dbl) 4.0000000, 4.0000000, 1.1707317, 2.0172414, 0....\n",
      "$ median_gap_size      (dbl) 2.0, 2.0, 0.0, 2.0, 0.0, 1.0, 7.0, 0.0, 1.0, 0...\n",
      "$ sd_gap_size          (dbl) 4.4787078, 4.5860940, 2.3083578, 1.9600517, 0....\n"
     ]
    }
   ],
   "source": [
    "df_press_gaps <- df_print_state_daily %>%\n",
    "    select(event_press, event_date, product_line) %>%\n",
    "    mutate(prior_event_date = lag(event_date, na.pad = TRUE)) %>%\n",
    "    mutate(delta_event_date = ifelse(is.na(prior_event_date), -1, event_date - prior_event_date - 1)) %>%\n",
    "    mutate(delta_event_date = replace(delta_event_date,which(delta_event_date == -1),NA)) %>%\n",
    "    summarise(\n",
    "        product_line = first(product_line),\n",
    "        max_delta_event_date = max(delta_event_date, na.rm = TRUE),\n",
    "        min_delta_event_date = min(delta_event_date, na.rm = TRUE),\n",
    "        number_of_events = n(),\n",
    "        mean_gap_size = mean(delta_event_date, na.rm = TRUE),\n",
    "        median_gap_size = median(delta_event_date, na.rm = TRUE),\n",
    "        sd_gap_size = sd(delta_event_date, na.rm = TRUE)\n",
    "    )\n",
    "glimpse(df_press_gaps)"
   ]
  },
  {
   "cell_type": "markdown",
   "metadata": {},
   "source": [
    "## 4. Continuous gaps \n",
    "Sensor data is irregularly distributed in each press with frequent continuous gaps in several sizes.\n",
    "In order to avoid to avoid a sliding window to pass through a time-series interval where there will be no data for a press, it is important to make sure only presses with smaller continous gaps are used in this process.\n",
    "\n",
    "Also we should get some examples of presses with frequent pip temperatures crossing threshold to make it possible to understand how effective can be the trends for these cases."
   ]
  },
  {
   "cell_type": "markdown",
   "metadata": {},
   "source": [
    "### 4.1 Gap overview considering all presses"
   ]
  },
  {
   "cell_type": "code",
   "execution_count": 114,
   "metadata": {
    "collapsed": false
   },
   "outputs": [
    {
     "data": {
      "text/html": [
       "<table>\n",
       "<thead><tr><th></th><th scope=col>number_of_presses</th><th scope=col>median_number_of_events</th><th scope=col>sd_number_of_events</th><th scope=col>global_median_gap_size</th><th scope=col>global_sd_gap_size</th></tr></thead>\n",
       "<tbody>\n",
       "\t<tr><th scope=row>1</th><td>851.00000</td><td> 43.00000</td><td> 36.97867</td><td>  1.00000</td><td> 11.42132</td></tr>\n",
       "</tbody>\n",
       "</table>\n"
      ],
      "text/latex": [
       "\\begin{tabular}{r|lllll}\n",
       "  & number\\_of\\_presses & median\\_number\\_of\\_events & sd\\_number\\_of\\_events & global\\_median\\_gap\\_size & global\\_sd\\_gap\\_size\\\\\n",
       "\\hline\n",
       "\t1 & 851.00000 &  43.00000 &  36.97867 &   1.00000 &  11.42132\\\\\n",
       "\\end{tabular}\n"
      ],
      "text/plain": [
       "  number_of_presses median_number_of_events sd_number_of_events\n",
       "1               851                      43            36.97867\n",
       "  global_median_gap_size global_sd_gap_size\n",
       "1                      1           11.42132"
      ]
     },
     "metadata": {},
     "output_type": "display_data"
    }
   ],
   "source": [
    "df_press_gaps %>%\n",
    "    summarise(\n",
    "        number_of_presses = n(),\n",
    "        median_number_of_events = median(number_of_events, na.rm = T),\n",
    "        sd_number_of_events = sd(number_of_events, na.rm = T),\n",
    "        global_median_gap_size = median(median_gap_size, na.rm = T),\n",
    "        global_sd_gap_size = sd(median_gap_size, na.rm = T)\n",
    "        )        "
   ]
  },
  {
   "cell_type": "markdown",
   "metadata": {},
   "source": [
    "### 4.2 Gap overview by product line"
   ]
  },
  {
   "cell_type": "code",
   "execution_count": 115,
   "metadata": {
    "collapsed": false
   },
   "outputs": [
    {
     "data": {
      "text/html": [
       "<table>\n",
       "<thead><tr><th></th><th scope=col>product_line</th><th scope=col>number_of_press</th><th scope=col>perc_of_presses</th><th scope=col>median_number_of_events</th><th scope=col>sd_number_of_events</th><th scope=col>global_median_gap_size</th><th scope=col>global_sd_gap_size</th></tr></thead>\n",
       "<tbody>\n",
       "\t<tr><th scope=row>1</th><td>HP Indigo 7000   </td><td>228              </td><td>0.267920094007051</td><td>43               </td><td>34.4309901531685 </td><td>1                </td><td>9.94543665415612 </td></tr>\n",
       "\t<tr><th scope=row>2</th><td>HP Indigo 7500   </td><td>246              </td><td>0.289071680376028</td><td>43               </td><td>38.281294707379  </td><td>1                </td><td>9.30639989499397 </td></tr>\n",
       "\t<tr><th scope=row>3</th><td>HP Indigo 7600   </td><td>377              </td><td>0.443008225616921</td><td>45               </td><td>37.6076142741222 </td><td>1                </td><td>13.3584242196602 </td></tr>\n",
       "</tbody>\n",
       "</table>\n"
      ],
      "text/latex": [
       "\\begin{tabular}{r|lllllll}\n",
       "  & product\\_line & number\\_of\\_press & perc\\_of\\_presses & median\\_number\\_of\\_events & sd\\_number\\_of\\_events & global\\_median\\_gap\\_size & global\\_sd\\_gap\\_size\\\\\n",
       "\\hline\n",
       "\t1 & HP Indigo 7000    & 228               & 0.267920094007051 & 43                & 34.4309901531685  & 1                 & 9.94543665415612 \\\\\n",
       "\t2 & HP Indigo 7500    & 246               & 0.289071680376028 & 43                & 38.281294707379   & 1                 & 9.30639989499397 \\\\\n",
       "\t3 & HP Indigo 7600    & 377               & 0.443008225616921 & 45                & 37.6076142741222  & 1                 & 13.3584242196602 \\\\\n",
       "\\end{tabular}\n"
      ],
      "text/plain": [
       "    product_line number_of_press perc_of_presses median_number_of_events\n",
       "1 HP Indigo 7000             228       0.2679201                      43\n",
       "2 HP Indigo 7500             246       0.2890717                      43\n",
       "3 HP Indigo 7600             377       0.4430082                      45\n",
       "  sd_number_of_events global_median_gap_size global_sd_gap_size\n",
       "1            34.43099                      1           9.945437\n",
       "2            38.28129                      1           9.306400\n",
       "3            37.60761                      1          13.358424"
      ]
     },
     "metadata": {},
     "output_type": "display_data"
    }
   ],
   "source": [
    "df_press_gaps %>%\n",
    "    mutate(total_presses = n()) %>%\n",
    "    group_by(product_line) %>%  \n",
    "    mutate(number_of_presses = n()) %>%\n",
    "    summarise(        \n",
    "        number_of_press = first(number_of_presses),\n",
    "        perc_of_presses = first(number_of_presses) / first(total_presses),\n",
    "        median_number_of_events = median(number_of_events, na.rm = T),\n",
    "        sd_number_of_events = sd(number_of_events, na.rm = T),\n",
    "        global_median_gap_size = median(median_gap_size, na.rm = T),\n",
    "        global_sd_gap_size = sd(median_gap_size, na.rm = T)\n",
    "    )   "
   ]
  },
  {
   "cell_type": "markdown",
   "metadata": {},
   "source": [
    "### 4.3 Conclusions from the gap analysis"
   ]
  },
  {
   "cell_type": "markdown",
   "metadata": {},
   "source": [
    "The table above shows that 'HP Indigo 7600' corresponds to about 45% of all press events in PRINT_STATE. \n",
    "\n",
    "Due to that it seems to be a good approach to always break data in different product lines prior to train any machine learning algorithm. By doing so, we can better represent each product line.\n",
    "\n",
    "The median number of events per press is 43 and 45 so it might be better to use presses that have a similar number of events for the training. This way different presses can be better learned."
   ]
  },
  {
   "cell_type": "markdown",
   "metadata": {},
   "source": [
    "### 4.4 Number of presses with medians similar to their corresponding product_line medians"
   ]
  },
  {
   "cell_type": "code",
   "execution_count": 127,
   "metadata": {
    "collapsed": false
   },
   "outputs": [
    {
     "name": "stdout",
     "output_type": "stream",
     "text": [
      "With event_numbers 20 % around  44 : 53 and 35 \n",
      "With median_gap_size less than 14 \n"
     ]
    },
    {
     "data": {
      "text/html": [
       "<table>\n",
       "<thead><tr><th></th><th scope=col>product_line</th><th scope=col>original_number_of_press</th><th scope=col>filtered_number_of_press</th><th scope=col>perc_of_filtered_press_from_original</th><th scope=col>biggest_continuous_gap</th></tr></thead>\n",
       "<tbody>\n",
       "\t<tr><th scope=row>1</th><td>HP Indigo 7000   </td><td>228              </td><td>42               </td><td>0.184210526315789</td><td>3                </td></tr>\n",
       "\t<tr><th scope=row>2</th><td>HP Indigo 7500   </td><td>246              </td><td>41               </td><td>0.166666666666667</td><td>3                </td></tr>\n",
       "\t<tr><th scope=row>3</th><td>HP Indigo 7600   </td><td>377              </td><td>55               </td><td>0.145888594164456</td><td>3                </td></tr>\n",
       "</tbody>\n",
       "</table>\n"
      ],
      "text/latex": [
       "\\begin{tabular}{r|lllll}\n",
       "  & product\\_line & original\\_number\\_of\\_press & filtered\\_number\\_of\\_press & perc\\_of\\_filtered\\_press\\_from\\_original & biggest\\_continuous\\_gap\\\\\n",
       "\\hline\n",
       "\t1 & HP Indigo 7000    & 228               & 42                & 0.184210526315789 & 3                \\\\\n",
       "\t2 & HP Indigo 7500    & 246               & 41                & 0.166666666666667 & 3                \\\\\n",
       "\t3 & HP Indigo 7600    & 377               & 55                & 0.145888594164456 & 3                \\\\\n",
       "\\end{tabular}\n"
      ],
      "text/plain": [
       "    product_line original_number_of_press filtered_number_of_press\n",
       "1 HP Indigo 7000                      228                       42\n",
       "2 HP Indigo 7500                      246                       41\n",
       "3 HP Indigo 7600                      377                       55\n",
       "  perc_of_filtered_press_from_original biggest_continuous_gap\n",
       "1                            0.1842105                      3\n",
       "2                            0.1666667                      3\n",
       "3                            0.1458886                      3"
      ]
     },
     "metadata": {},
     "output_type": "display_data"
    }
   ],
   "source": [
    "event_perc_around_median <- 0.20\n",
    "gap_perc_around_median <- 0.30\n",
    "\n",
    "# Considering event_number_median +- 50%\n",
    "event_number_median <- 44 # since all event medians are similar among product lines - an approximate number is being used here\n",
    "event_upper_limit <- round(event_number_median*(1 + event_perc_around_median))\n",
    "event_lower_limit <- round(event_number_median*(1 - event_perc_around_median))\n",
    "\n",
    "# event gaps can´t be equal or bigger than 14\n",
    "gap_upper_limit <- 14\n",
    "\n",
    "cat('With event_numbers',event_perc_around_median*100,'% around ',event_number_median,':', event_upper_limit,'and', event_lower_limit,'\\n')\n",
    "cat('With median_gap_size less than', gap_upper_limit,'\\n')\n",
    "\n",
    "df_press_gaps %>%\n",
    "    group_by(product_line) %>%\n",
    "    mutate(total_product_line = n()) %>%\n",
    "    filter(number_of_events >= round(event_lower_limit) & number_of_events <= round(event_upper_limit)) %>%\n",
    "    filter(median_gap_size < gap_upper_limit) %>%\n",
    "    summarise(\n",
    "        original_number_of_press = first(total_product_line),        \n",
    "        filtered_number_of_press = n(),\n",
    "        perc_of_filtered_press_from_original = filtered_number_of_press / original_number_of_press,\n",
    "        biggest_continuous_gap = max(median_gap_size)\n",
    "    )\n",
    "    "
   ]
  },
  {
   "cell_type": "code",
   "execution_count": null,
   "metadata": {
    "collapsed": true
   },
   "outputs": [],
   "source": []
  }
 ],
 "metadata": {
  "kernelspec": {
   "display_name": "R",
   "language": "R",
   "name": "ir"
  },
  "language_info": {
   "codemirror_mode": "r",
   "file_extension": ".r",
   "mimetype": "text/x-r-source",
   "name": "R",
   "pygments_lexer": "r",
   "version": "3.3.1"
  }
 },
 "nbformat": 4,
 "nbformat_minor": 0
}
