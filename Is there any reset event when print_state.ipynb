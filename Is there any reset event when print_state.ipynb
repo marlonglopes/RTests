{
 "cells": [
  {
   "cell_type": "code",
   "execution_count": 1,
   "metadata": {
    "collapsed": false
   },
   "outputs": [
    {
     "name": "stderr",
     "output_type": "stream",
     "text": [
      "Loading required package: dplyr\n",
      "\n",
      "Attaching package: ‘dplyr’\n",
      "\n",
      "The following objects are masked from ‘package:stats’:\n",
      "\n",
      "    filter, lag\n",
      "\n",
      "The following objects are masked from ‘package:base’:\n",
      "\n",
      "    intersect, setdiff, setequal, union\n",
      "\n",
      "Loading required package: tidyr\n",
      "Loading required package: ggplot2\n",
      "Loading required package: purrr\n",
      "\n",
      "Attaching package: ‘purrr’\n",
      "\n",
      "The following object is masked from ‘package:dplyr’:\n",
      "\n",
      "    order_by\n",
      "\n",
      "Loading required package: corrplot\n",
      "Loading required package: data.table\n",
      "\n",
      "Attaching package: ‘data.table’\n",
      "\n",
      "The following object is masked from ‘package:purrr’:\n",
      "\n",
      "    transpose\n",
      "\n",
      "The following objects are masked from ‘package:dplyr’:\n",
      "\n",
      "    between, last\n",
      "\n",
      "\n",
      "Attaching package: ‘lubridate’\n",
      "\n",
      "The following objects are masked from ‘package:data.table’:\n",
      "\n",
      "    hour, mday, month, quarter, wday, week, yday, year\n",
      "\n",
      "The following object is masked from ‘package:base’:\n",
      "\n",
      "    date\n",
      "\n",
      "\n",
      "Attaching package: ‘magrittr’\n",
      "\n",
      "The following object is masked from ‘package:purrr’:\n",
      "\n",
      "    set_names\n",
      "\n",
      "The following object is masked from ‘package:tidyr’:\n",
      "\n",
      "    extract\n",
      "\n"
     ]
    }
   ],
   "source": [
    "if (!require(\"dplyr\")) { install.packages(\"dplyr\", lib='/R/library', repos='http://cran.us.r-project.org') }\n",
    "if (!require(\"tidyr\")) { install.packages(\"tidyr\", lib='/R/library', repos='http://cran.us.r-project.org') }\n",
    "if (!require(\"ggplot2\")) { install.packages(\"ggplot2\", lib='/R/library', repos='http://cran.us.r-project.org') }\n",
    "if (!require(\"purrr\")) { install.packages(\"purrr\", lib='/R/library', repos='http://cran.us.r-project.org') }\n",
    "if (!require(\"corrplot\")) { install.packages(\"corrplot\", lib='/R/library', repos='http://cran.us.r-project.org') }\n",
    "if (!require(\"data.table\")) { install.packages(\"data.table\", lib='/R/library', repos='http://cran.us.r-project.org') }\n",
    "\n",
    "\n",
    "\n",
    "library(tidyr)\n",
    "library(ggplot2)\n",
    "library(lubridate)\n",
    "library(magrittr)\n",
    "library(corrplot)\n",
    "library(data.table)"
   ]
  },
  {
   "cell_type": "code",
   "execution_count": 2,
   "metadata": {
    "collapsed": false
   },
   "outputs": [
    {
     "name": "stdout",
     "output_type": "stream",
     "text": [
      "'data.frame':\t5316 obs. of  18 variables:\n",
      " $ event_RowNumber  : num  1.61e+10 1.61e+10 1.61e+10 1.61e+10 1.61e+10 ...\n",
      " $ event_press      : num  4.5e+07 4.5e+07 4.5e+07 4.5e+07 4.5e+07 ...\n",
      " $ event_recNum     : num  366826 366827 366829 366828 366830 ...\n",
      " $ event_date       : POSIXct, format: \"2016-07-13 03:00:00\" \"2016-07-13 03:00:00\" ...\n",
      " $ event_time       : num  74740 74741 74847 74847 74849 ...\n",
      " $ event_name       : chr  \"EVENT_HANDLER_STARTED\" \"PLUG_TIME_DELTA\" \"PLUG_TIME_DELTA\" \"EVENT_HANDLER_STARTED\" ...\n",
      " $ event_jobid      : num  0 0 0 0 0 0 0 0 0 0 ...\n",
      " $ event_sheets     : num  0 0 0 0 0 ...\n",
      " $ event_impressions: num  0 0 0 0 0 ...\n",
      " $ event_state      : chr  \"INIT_STATE\" \"INIT_STATE\" \"INIT_STATE\" \"INIT_STATE\" ...\n",
      " $ event_mode       : chr  \"STANDARD_MODE\" \"STANDARD_MODE\" \"STANDARD_MODE\" \"STANDARD_MODE\" ...\n",
      " $ event_p1         : chr  \"5780\" \"0\" \"0\" \"6232\" ...\n",
      " $ event_p2         : chr  \"Event Log COM Server 1.0\" \"Old Plug\" \"Old Plug\" \"Event Log COM Server 1.0\" ...\n",
      " $ event_p3         : chr  \"..\\\\data\\\\evtData.mdb\" NA NA \"..\\\\data\\\\evtData.mdb\" ...\n",
      " $ event_p4         : chr  NA NA NA NA ...\n",
      " $ event_p5         : chr  NA NA NA NA ...\n",
      " $ event_EngineNo   : num  0 0 0 0 0 0 0 0 0 0 ...\n",
      " $ Event_Month      : num  7 7 7 7 7 7 7 7 7 7 ...\n"
     ]
    }
   ],
   "source": [
    "load('book9.dat')\n",
    "str(data)"
   ]
  },
  {
   "cell_type": "code",
   "execution_count": null,
   "metadata": {
    "collapsed": true
   },
   "outputs": [],
   "source": []
  }
 ],
 "metadata": {
  "kernelspec": {
   "display_name": "R",
   "language": "R",
   "name": "ir"
  },
  "language_info": {
   "codemirror_mode": "r",
   "file_extension": ".r",
   "mimetype": "text/x-r-source",
   "name": "R",
   "pygments_lexer": "r",
   "version": "3.3.1"
  }
 },
 "nbformat": 4,
 "nbformat_minor": 0
}
