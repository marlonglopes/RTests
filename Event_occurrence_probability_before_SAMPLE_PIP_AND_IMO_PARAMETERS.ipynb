{
 "cells": [
  {
   "cell_type": "markdown",
   "metadata": {},
   "source": [
    "# Event occurrence probability prior to SAMPLE_PIP_AND_IMO_PARAMETERS"
   ]
  },
  {
   "cell_type": "markdown",
   "metadata": {},
   "source": [
    "## 1. Overview\n",
    "\n",
    "The analysis in this notebook aims to investigate what are the events with more occurrences that occur before one SAMPLE_PIP_AN_IMO_PARAMETERS event.\n",
    "\n",
    "The answer can help/indicate the if there is a trigger event and to response the follow question: ***\"Is there a trigger to start/run the SAMPLE_PIP_AND_IMO_PARAMETERS event?\"***.\n",
    "\n",
    "To this analysis will be used the data frame **BOOK9.DAT** and it consists in capture the unique events that occurs before a sample_pip in an interval of 10 minutes and check the ratio of each one."
   ]
  },
  {
   "cell_type": "markdown",
   "metadata": {},
   "source": [
    "## 2. Notebook preparation\n",
    "### 2.1 Load packages"
   ]
  },
  {
   "cell_type": "code",
   "execution_count": 1,
   "metadata": {
    "collapsed": false
   },
   "outputs": [
    {
     "name": "stderr",
     "output_type": "stream",
     "text": [
      "Loading required package: dplyr\n",
      "\n",
      "Attaching package: ‘dplyr’\n",
      "\n",
      "The following objects are masked from ‘package:stats’:\n",
      "\n",
      "    filter, lag\n",
      "\n",
      "The following objects are masked from ‘package:base’:\n",
      "\n",
      "    intersect, setdiff, setequal, union\n",
      "\n",
      "Loading required package: tidyr\n",
      "Loading required package: ggplot2\n",
      "Loading required package: lubridate\n",
      "\n",
      "Attaching package: ‘lubridate’\n",
      "\n",
      "The following object is masked from ‘package:base’:\n",
      "\n",
      "    date\n",
      "\n"
     ]
    }
   ],
   "source": [
    "if (!require(\"dplyr\")) { install.packages(\"dplyr\", lib='/R/library', repos='http://cran.us.r-project.org') }\n",
    "if (!require(\"tidyr\")) { install.packages(\"tidyr\", lib='/R/library', repos='http://cran.us.r-project.org') }\n",
    "if (!require(\"ggplot2\")) { install.packages(\"ggplot2\", lib='/R/library', repos='http://cran.us.r-project.org') }\n",
    "if (!require(\"lubridate\")) { install.packages(\"lubridate\", lib='/R/library', repos='http://cran.us.r-project.org') }"
   ]
  },
  {
   "cell_type": "markdown",
   "metadata": {},
   "source": [
    "### 2.2 Load data\n",
    "\n",
    "Load data from the file with content of just one printer on just one week - called **BOOK9.DAT**."
   ]
  },
  {
   "cell_type": "code",
   "execution_count": 2,
   "metadata": {
    "collapsed": false
   },
   "outputs": [
    {
     "name": "stdout",
     "output_type": "stream",
     "text": [
      "'data.frame':\t5316 obs. of  18 variables:\n",
      " $ event_RowNumber  : num  1.61e+10 1.61e+10 1.61e+10 1.61e+10 1.61e+10 ...\n",
      " $ event_press      : num  4.5e+07 4.5e+07 4.5e+07 4.5e+07 4.5e+07 ...\n",
      " $ event_recNum     : num  366826 366827 366829 366828 366830 ...\n",
      " $ event_date       : POSIXct, format: \"2016-07-13 03:00:00\" \"2016-07-13 03:00:00\" ...\n",
      " $ event_time       : num  74740 74741 74847 74847 74849 ...\n",
      " $ event_name       : chr  \"EVENT_HANDLER_STARTED\" \"PLUG_TIME_DELTA\" \"PLUG_TIME_DELTA\" \"EVENT_HANDLER_STARTED\" ...\n",
      " $ event_jobid      : num  0 0 0 0 0 0 0 0 0 0 ...\n",
      " $ event_sheets     : num  0 0 0 0 0 ...\n",
      " $ event_impressions: num  0 0 0 0 0 ...\n",
      " $ event_state      : chr  \"INIT_STATE\" \"INIT_STATE\" \"INIT_STATE\" \"INIT_STATE\" ...\n",
      " $ event_mode       : chr  \"STANDARD_MODE\" \"STANDARD_MODE\" \"STANDARD_MODE\" \"STANDARD_MODE\" ...\n",
      " $ event_p1         : chr  \"5780\" \"0\" \"0\" \"6232\" ...\n",
      " $ event_p2         : chr  \"Event Log COM Server 1.0\" \"Old Plug\" \"Old Plug\" \"Event Log COM Server 1.0\" ...\n",
      " $ event_p3         : chr  \"..\\\\data\\\\evtData.mdb\" NA NA \"..\\\\data\\\\evtData.mdb\" ...\n",
      " $ event_p4         : chr  NA NA NA NA ...\n",
      " $ event_p5         : chr  NA NA NA NA ...\n",
      " $ event_EngineNo   : num  0 0 0 0 0 0 0 0 0 0 ...\n",
      " $ Event_Month      : num  7 7 7 7 7 7 7 7 7 7 ...\n"
     ]
    }
   ],
   "source": [
    "load('book9.dat')\n",
    "str(data)"
   ]
  },
  {
   "cell_type": "markdown",
   "metadata": {},
   "source": [
    "## 3. Organize the data\n",
    "\n",
    "As there are different data format in this data frame, it is required to manipulate the **event_date** and **event_time** to generate a new column with the content of these two columns into one called **full_time**."
   ]
  },
  {
   "cell_type": "code",
   "execution_count": 3,
   "metadata": {
    "collapsed": false
   },
   "outputs": [
    {
     "name": "stderr",
     "output_type": "stream",
     "text": [
      "Warning message:\n",
      ":  1 failed to parse."
     ]
    }
   ],
   "source": [
    "df <- data %>%\n",
    "    mutate(event_press = as.character(event_press)) %>%\n",
    "    mutate(event_date = as.character(event_date)) %>%\n",
    "    mutate(event_date = substr(event_date,1,10)) %>%\n",
    "    mutate(event_time = as.character(event_time)) %>%\n",
    "    mutate(event_time = sapply(event_time, function(elem) { ifelse(nchar(elem) == 5,paste('0',elem,sep=\"\"),elem) })) %>%\n",
    "    mutate(event_time = sapply(event_time, function(elem) { paste(substr(elem,1,2),\":\",substr(elem,3,4),\":\",substr(elem,5,6),sep=\"\") })) %>%\n",
    "    unite(full_time, c(event_date, event_time), sep=\" \") %>%\n",
    "    mutate(full_time = ymd_hms(full_time))"
   ]
  },
  {
   "cell_type": "markdown",
   "metadata": {},
   "source": [
    "## 4. Get the full_time of SAMPLE_PIP_AND_IMO_PARAMETERS events"
   ]
  },
  {
   "cell_type": "code",
   "execution_count": 4,
   "metadata": {
    "collapsed": false
   },
   "outputs": [],
   "source": [
    "df2 <- df %>%\n",
    "    filter(event_name == \"SAMPLE_PIP_AND_IMO_PARAMETERS\") %>%\n",
    "    select(full_time)\n",
    "fullTimes <- df2$full_time"
   ]
  },
  {
   "cell_type": "markdown",
   "metadata": {},
   "source": [
    "## 5. Get the prior events based in the SAMPLE_PIP events\n",
    "\n",
    "Based in the SAMPLE_PIP_AND_IMO_PARAMENTERS events, we will get the previous events that have occured in the **ten minutes (10)** before each sample_pip event. Observation: Unique event is being registered here.  "
   ]
  },
  {
   "cell_type": "code",
   "execution_count": 5,
   "metadata": {
    "collapsed": false
   },
   "outputs": [],
   "source": [
    "dict <- list()\n",
    "test <- \"\"\n",
    "\n",
    "for(fullTime in fullTimes) {\n",
    "    t1 <- fullTime - dminutes(10)\n",
    "    t2 <- fullTime\n",
    "    \n",
    "    temp <- df %>%\n",
    "        filter(full_time >= t1 & full_time <= t2) %>%\n",
    "        select(event_name) %>%\n",
    "        distinct()\n",
    "    \n",
    "    for(event_name in temp$event_name) {\n",
    "        #print (event_name)\n",
    "        test <- append(test, event_name)\n",
    "    }\n",
    "}"
   ]
  },
  {
   "cell_type": "markdown",
   "metadata": {},
   "source": [
    "## 6. Calculate the event ratio\n",
    "\n",
    "Calculate the event ratio based in the occurrences of SAMPLE_PIP_AND_IMO_PARAMETERS and show the top 10."
   ]
  },
  {
   "cell_type": "code",
   "execution_count": 6,
   "metadata": {
    "collapsed": false
   },
   "outputs": [],
   "source": [
    "event_occu <- sort(table(test), decreasing = TRUE)\n",
    "event_occu <- as.data.frame(event_occu)"
   ]
  },
  {
   "cell_type": "code",
   "execution_count": 7,
   "metadata": {
    "collapsed": false
   },
   "outputs": [],
   "source": [
    "sample_occu <- event_occu[(event_occu$test=='SAMPLE_PIP_AND_IMO_PARAMETERS'), ]$Freq"
   ]
  },
  {
   "cell_type": "code",
   "execution_count": 9,
   "metadata": {
    "collapsed": false
   },
   "outputs": [
    {
     "data": {
      "text/html": [
       "<table>\n",
       "<thead><tr><th></th><th scope=col>test</th><th scope=col>Freq</th><th scope=col>ratio</th></tr></thead>\n",
       "<tbody>\n",
       "\t<tr><th scope=row>1</th><td>SAMPLE_PIP_AND_IMO_PARAMETERS</td><td>70                           </td><td>1                            </td></tr>\n",
       "\t<tr><th scope=row>2</th><td>MIC_CD_ADDING_NOTIFY</td><td>44                  </td><td>0.628571428571429   </td></tr>\n",
       "\t<tr><th scope=row>3</th><td>PCN_GAP_CURRENT_SAMPLE</td><td>40                    </td><td>0.571428571428571     </td></tr>\n",
       "\t<tr><th scope=row>4</th><td>PM_ENGINE_RELATED_COUNTERS</td><td>32                        </td><td>0.457142857142857         </td></tr>\n",
       "\t<tr><th scope=row>5</th><td>PM_JOB_STATISTICS</td><td>32               </td><td>0.457142857142857</td></tr>\n",
       "\t<tr><th scope=row>6</th><td>PRINT_JOB_STATISTICS</td><td>29                  </td><td>0.414285714285714   </td></tr>\n",
       "\t<tr><th scope=row>7</th><td>MIC_WATER_HEATER_FAILURE</td><td>27                      </td><td>0.385714285714286       </td></tr>\n",
       "\t<tr><th scope=row>8</th><td>PRINT_JOB_INTERRUPT</td><td>26                 </td><td>0.371428571428571  </td></tr>\n",
       "\t<tr><th scope=row>9</th><td>MTC_REPORT_HUMIDITY_SENSORS</td><td>24                         </td><td>0.342857142857143          </td></tr>\n",
       "\t<tr><th scope=row>10</th><td>PM_ABNORMAL_PRINT_TERMINAT</td><td>24                        </td><td>0.342857142857143         </td></tr>\n",
       "\t<tr><th scope=row>11</th><td>PM_PIPELINE_FULLNESS</td><td>24                  </td><td>0.342857142857143   </td></tr>\n",
       "</tbody>\n",
       "</table>\n"
      ],
      "text/latex": [
       "\\begin{tabular}{r|lll}\n",
       "  & test & Freq & ratio\\\\\n",
       "\\hline\n",
       "\t1 & SAMPLE\\_PIP\\_AND\\_IMO\\_PARAMETERS & 70                                    & 1                                    \\\\\n",
       "\t2 & MIC\\_CD\\_ADDING\\_NOTIFY & 44                         & 0.628571428571429         \\\\\n",
       "\t3 & PCN\\_GAP\\_CURRENT\\_SAMPLE & 40                           & 0.571428571428571           \\\\\n",
       "\t4 & PM\\_ENGINE\\_RELATED\\_COUNTERS & 32                               & 0.457142857142857               \\\\\n",
       "\t5 & PM\\_JOB\\_STATISTICS & 32                    & 0.457142857142857    \\\\\n",
       "\t6 & PRINT\\_JOB\\_STATISTICS & 29                       & 0.414285714285714       \\\\\n",
       "\t7 & MIC\\_WATER\\_HEATER\\_FAILURE & 27                             & 0.385714285714286             \\\\\n",
       "\t8 & PRINT\\_JOB\\_INTERRUPT & 26                      & 0.371428571428571      \\\\\n",
       "\t9 & MTC\\_REPORT\\_HUMIDITY\\_SENSORS & 24                                & 0.342857142857143                \\\\\n",
       "\t10 & PM\\_ABNORMAL\\_PRINT\\_TERMINAT & 24                               & 0.342857142857143               \\\\\n",
       "\t11 & PM\\_PIPELINE\\_FULLNESS & 24                       & 0.342857142857143       \\\\\n",
       "\\end{tabular}\n"
      ],
      "text/plain": [
       "                            test Freq     ratio\n",
       "1  SAMPLE_PIP_AND_IMO_PARAMETERS   70 1.0000000\n",
       "2           MIC_CD_ADDING_NOTIFY   44 0.6285714\n",
       "3         PCN_GAP_CURRENT_SAMPLE   40 0.5714286\n",
       "4     PM_ENGINE_RELATED_COUNTERS   32 0.4571429\n",
       "5              PM_JOB_STATISTICS   32 0.4571429\n",
       "6           PRINT_JOB_STATISTICS   29 0.4142857\n",
       "7       MIC_WATER_HEATER_FAILURE   27 0.3857143\n",
       "8            PRINT_JOB_INTERRUPT   26 0.3714286\n",
       "9    MTC_REPORT_HUMIDITY_SENSORS   24 0.3428571\n",
       "10    PM_ABNORMAL_PRINT_TERMINAT   24 0.3428571\n",
       "11          PM_PIPELINE_FULLNESS   24 0.3428571"
      ]
     },
     "metadata": {},
     "output_type": "display_data"
    }
   ],
   "source": [
    "event_occu[\"ratio\"] <- NA\n",
    "event_occu$ratio <- event_occu$Freq/sample_occu\n",
    "head(event_occu, 11)"
   ]
  },
  {
   "cell_type": "markdown",
   "metadata": {
    "collapsed": true
   },
   "source": [
    "## 7. Conclusion\n",
    "\n",
    "Based in the result, the event \"MIC_CD_ADDING_NOTIFY\" is appearing in approximately **63%** and the event \"PCN_GAP_CURRENT_SAMPLE\" around **57%** in the interval of **ten (10) minutes** that prior the sample_pip event.\n",
    "\n",
    "Checking the available data, there isn't an event that we can consider as the trigger to start/run the SAMPLE_PIP, but as the data set is extremelly low (just one printer for just one week) so any conclusion here cannot be applied for any other printer model, family or firmware. "
   ]
  },
  {
   "cell_type": "code",
   "execution_count": null,
   "metadata": {
    "collapsed": true
   },
   "outputs": [],
   "source": []
  }
 ],
 "metadata": {
  "kernelspec": {
   "display_name": "R",
   "language": "R",
   "name": "ir"
  },
  "language_info": {
   "codemirror_mode": "r",
   "file_extension": ".r",
   "mimetype": "text/x-r-source",
   "name": "R",
   "pygments_lexer": "r",
   "version": "3.3.1"
  }
 },
 "nbformat": 4,
 "nbformat_minor": 0
}
