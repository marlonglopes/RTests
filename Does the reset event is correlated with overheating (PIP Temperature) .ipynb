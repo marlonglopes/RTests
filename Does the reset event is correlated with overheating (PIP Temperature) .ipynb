{
 "cells": [
  {
   "cell_type": "code",
   "execution_count": 30,
   "metadata": {
    "collapsed": false
   },
   "outputs": [],
   "source": [
    "if (!require(\"dplyr\")) { install.packages(\"dplyr\", lib='/R/library', repos='http://cran.us.r-project.org') }\n",
    "if (!require(\"tidyr\")) { install.packages(\"tidyr\", lib='/R/library', repos='http://cran.us.r-project.org') }\n",
    "if (!require(\"ggplot2\")) { install.packages(\"ggplot2\", lib='/R/library', repos='http://cran.us.r-project.org') }\n",
    "if (!require(\"purrr\")) { install.packages(\"purrr\", lib='/R/library', repos='http://cran.us.r-project.org') }\n",
    "if (!require(\"corrplot\")) { install.packages(\"corrplot\", lib='/R/library', repos='http://cran.us.r-project.org') }\n",
    "if (!require(\"data.table\")) { install.packages(\"data.table\", lib='/R/library', repos='http://cran.us.r-project.org') }\n",
    "if (!require(\"timevis\")) { install.packages(\"timevis\", lib='/R/library', repos='http://cran.us.r-project.org') }\n",
    "if (!require(\"shiny\")) { install.packages(\"shiny\", lib='/R/library', repos='http://cran.us.r-project.org') }\n",
    "\n",
    "\n",
    "\n",
    "library(tidyr)\n",
    "library(ggplot2)\n",
    "library(lubridate)\n",
    "library(magrittr)\n",
    "library(corrplot)\n",
    "library(data.table)\n",
    "library(timevis)\n",
    "library(shiny)\n",
    "\n"
   ]
  },
  {
   "cell_type": "code",
   "execution_count": 19,
   "metadata": {
    "collapsed": false
   },
   "outputs": [
    {
     "name": "stdout",
     "output_type": "stream",
     "text": [
      "'data.frame':\t5316 obs. of  18 variables:\n",
      " $ event_RowNumber  : num  1.61e+10 1.61e+10 1.61e+10 1.61e+10 1.61e+10 ...\n",
      " $ event_press      : num  4.5e+07 4.5e+07 4.5e+07 4.5e+07 4.5e+07 ...\n",
      " $ event_recNum     : num  366826 366827 366829 366828 366830 ...\n",
      " $ event_date       : POSIXct, format: \"2016-07-13 03:00:00\" \"2016-07-13 03:00:00\" ...\n",
      " $ event_time       : num  74740 74741 74847 74847 74849 ...\n",
      " $ event_name       : chr  \"EVENT_HANDLER_STARTED\" \"PLUG_TIME_DELTA\" \"PLUG_TIME_DELTA\" \"EVENT_HANDLER_STARTED\" ...\n",
      " $ event_jobid      : num  0 0 0 0 0 0 0 0 0 0 ...\n",
      " $ event_sheets     : num  0 0 0 0 0 ...\n",
      " $ event_impressions: num  0 0 0 0 0 ...\n",
      " $ event_state      : chr  \"INIT_STATE\" \"INIT_STATE\" \"INIT_STATE\" \"INIT_STATE\" ...\n",
      " $ event_mode       : chr  \"STANDARD_MODE\" \"STANDARD_MODE\" \"STANDARD_MODE\" \"STANDARD_MODE\" ...\n",
      " $ event_p1         : chr  \"5780\" \"0\" \"0\" \"6232\" ...\n",
      " $ event_p2         : chr  \"Event Log COM Server 1.0\" \"Old Plug\" \"Old Plug\" \"Event Log COM Server 1.0\" ...\n",
      " $ event_p3         : chr  \"..\\\\data\\\\evtData.mdb\" NA NA \"..\\\\data\\\\evtData.mdb\" ...\n",
      " $ event_p4         : chr  NA NA NA NA ...\n",
      " $ event_p5         : chr  NA NA NA NA ...\n",
      " $ event_EngineNo   : num  0 0 0 0 0 0 0 0 0 0 ...\n",
      " $ Event_Month      : num  7 7 7 7 7 7 7 7 7 7 ...\n"
     ]
    }
   ],
   "source": [
    "load('book9.dat')\n",
    "str(data)"
   ]
  },
  {
   "cell_type": "code",
   "execution_count": 12,
   "metadata": {
    "collapsed": true
   },
   "outputs": [],
   "source": [
    "#data = data.table(data)"
   ]
  },
  {
   "cell_type": "code",
   "execution_count": 20,
   "metadata": {
    "collapsed": true
   },
   "outputs": [],
   "source": [
    "events = data[, c(\"event_name\", \"event_date\")]"
   ]
  },
  {
   "cell_type": "code",
   "execution_count": 21,
   "metadata": {
    "collapsed": true
   },
   "outputs": [],
   "source": [
    "names(events) = c(\"event_name\", \"start\")"
   ]
  },
  {
   "cell_type": "code",
   "execution_count": 22,
   "metadata": {
    "collapsed": false
   },
   "outputs": [
    {
     "name": "stdout",
     "output_type": "stream",
     "text": [
      "'data.frame':\t5316 obs. of  2 variables:\n",
      " $ event_name: chr  \"EVENT_HANDLER_STARTED\" \"PLUG_TIME_DELTA\" \"PLUG_TIME_DELTA\" \"EVENT_HANDLER_STARTED\" ...\n",
      " $ start     : POSIXct, format: \"2016-07-13 03:00:00\" \"2016-07-13 03:00:00\" ...\n"
     ]
    }
   ],
   "source": [
    "str(events)"
   ]
  },
  {
   "cell_type": "code",
   "execution_count": 23,
   "metadata": {
    "collapsed": false
   },
   "outputs": [
    {
     "ename": "ERROR",
     "evalue": "Error in vapply(df, class, FUN.VALUE = character(1L)): values must be length 1,\n but FUN(X[[2]]) result is length 2\n",
     "output_type": "error",
     "traceback": [
      "Error in vapply(df, class, FUN.VALUE = character(1L)): values must be length 1,\n but FUN(X[[2]]) result is length 2\nTraceback:\n",
      "1. tryCatch({\n .     for (mime in getOption(\"jupyter.display_mimetypes\")) {\n .         r <- mime2repr[[mime]](obj)\n .         if (!is.null(r)) \n .             data[[mime]] <- r\n .     }\n . }, error = handle_error)"
     ]
    },
    {
     "data": {
      "text/plain": [
       "               event_name               start\n",
       "1   EVENT_HANDLER_STARTED 2016-07-13 03:00:00\n",
       "2         PLUG_TIME_DELTA 2016-07-13 03:00:00\n",
       "3         PLUG_TIME_DELTA 2016-07-13 03:00:00\n",
       "4   EVENT_HANDLER_STARTED 2016-07-13 03:00:00\n",
       "5     EVENT_PRESS_STARTED 2016-07-13 03:00:00\n",
       "6 CLOUD_AAA_NOT_CONNECTED 2016-07-13 03:00:00"
      ]
     },
     "metadata": {},
     "output_type": "display_data"
    }
   ],
   "source": [
    "head(events)"
   ]
  },
  {
   "cell_type": "code",
   "execution_count": 24,
   "metadata": {
    "collapsed": true
   },
   "outputs": [],
   "source": [
    "events = head(events, 100)"
   ]
  },
  {
   "cell_type": "code",
   "execution_count": 27,
   "metadata": {
    "collapsed": false
   },
   "outputs": [
    {
     "name": "stderr",
     "output_type": "stream",
     "text": [
      "Warning message:\n",
      ": running command ''/usr/bin/pandoc' --version' had status 1"
     ]
    },
    {
     "ename": "ERROR",
     "evalue": "Error in strsplit(version_info, \"\\n\")[[1]]: subscript out of bounds\n",
     "output_type": "error",
     "traceback": [
      "Error in strsplit(version_info, \"\\n\")[[1]]: subscript out of bounds\nTraceback:\n",
      "1. tryCatch({\n .     for (mime in getOption(\"jupyter.display_mimetypes\")) {\n .         r <- mime2repr[[mime]](obj)\n .         if (!is.null(r)) \n .             data[[mime]] <- r\n .     }\n . }, error = handle_error)"
     ]
    },
    {
     "data": {
      "text/plain": [
       "HTML widgets cannot be represented in plain text (need html)"
      ]
     },
     "metadata": {},
     "output_type": "display_data"
    }
   ],
   "source": [
    "timevis(events)"
   ]
  },
  {
   "cell_type": "code",
   "execution_count": null,
   "metadata": {
    "collapsed": true
   },
   "outputs": [],
   "source": []
  }
 ],
 "metadata": {
  "kernelspec": {
   "display_name": "R",
   "language": "R",
   "name": "ir"
  },
  "language_info": {
   "codemirror_mode": "r",
   "file_extension": ".r",
   "mimetype": "text/x-r-source",
   "name": "R",
   "pygments_lexer": "r",
   "version": "3.3.1"
  }
 },
 "nbformat": 4,
 "nbformat_minor": 0
}
