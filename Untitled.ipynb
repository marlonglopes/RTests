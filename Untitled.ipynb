{
 "cells": [
  {
   "cell_type": "markdown",
   "metadata": {},
   "source": [
    "# Install required packages"
   ]
  },
  {
   "cell_type": "code",
   "execution_count": 2,
   "metadata": {
    "collapsed": false
   },
   "outputs": [
    {
     "name": "stderr",
     "output_type": "stream",
     "text": [
      "Loading required package: stringr\n",
      "Loading required package: magrittr\n",
      "Loading required package: readr\n",
      "Loading required package: lubridate\n",
      "\n",
      "Attaching package: ‘lubridate’\n",
      "\n",
      "The following object is masked from ‘package:base’:\n",
      "\n",
      "    date\n",
      "\n",
      "Loading required package: tidyr\n",
      "\n",
      "Attaching package: ‘tidyr’\n",
      "\n",
      "The following object is masked from ‘package:magrittr’:\n",
      "\n",
      "    extract\n",
      "\n",
      "Loading required package: dplyr\n",
      "\n",
      "Attaching package: ‘dplyr’\n",
      "\n",
      "The following objects are masked from ‘package:lubridate’:\n",
      "\n",
      "    intersect, setdiff, union\n",
      "\n",
      "The following objects are masked from ‘package:stats’:\n",
      "\n",
      "    filter, lag\n",
      "\n",
      "The following objects are masked from ‘package:base’:\n",
      "\n",
      "    intersect, setdiff, setequal, union\n",
      "\n",
      "Loading required package: zoo\n",
      "\n",
      "Attaching package: ‘zoo’\n",
      "\n",
      "The following objects are masked from ‘package:base’:\n",
      "\n",
      "    as.Date, as.Date.numeric\n",
      "\n",
      "Loading required package: purrr\n",
      "\n",
      "Attaching package: ‘purrr’\n",
      "\n",
      "The following object is masked from ‘package:dplyr’:\n",
      "\n",
      "    order_by\n",
      "\n",
      "The following object is masked from ‘package:magrittr’:\n",
      "\n",
      "    set_names\n",
      "\n",
      "Loading required package: psych\n",
      "Loading required package: data.table\n",
      "\n",
      "Attaching package: ‘data.table’\n",
      "\n",
      "The following object is masked from ‘package:purrr’:\n",
      "\n",
      "    transpose\n",
      "\n",
      "The following objects are masked from ‘package:dplyr’:\n",
      "\n",
      "    between, last\n",
      "\n",
      "The following objects are masked from ‘package:lubridate’:\n",
      "\n",
      "    hour, mday, month, quarter, wday, week, yday, year\n",
      "\n",
      "Loading required package: moments\n",
      "Loading required package: h2o\n",
      "Loading required package: statmod\n",
      "\n",
      "----------------------------------------------------------------------\n",
      "\n",
      "Your next step is to start H2O:\n",
      "    > h2o.init()\n",
      "\n",
      "For H2O package documentation, ask for help:\n",
      "    > ??h2o\n",
      "\n",
      "After starting H2O, you can use the Web UI at http://localhost:54321\n",
      "For more information visit http://docs.h2o.ai\n",
      "\n",
      "----------------------------------------------------------------------\n",
      "\n",
      "\n",
      "Attaching package: ‘h2o’\n",
      "\n",
      "The following objects are masked from ‘package:data.table’:\n",
      "\n",
      "    hour, month, week, year\n",
      "\n",
      "The following objects are masked from ‘package:lubridate’:\n",
      "\n",
      "    day, hour, month, week, year\n",
      "\n",
      "The following objects are masked from ‘package:stats’:\n",
      "\n",
      "    cor, sd, var\n",
      "\n",
      "The following objects are masked from ‘package:base’:\n",
      "\n",
      "    &&, %*%, %in%, ||, apply, as.factor, as.numeric, colnames,\n",
      "    colnames<-, ifelse, is.character, is.factor, is.numeric, log,\n",
      "    log10, log1p, log2, round, signif, trunc\n",
      "\n",
      "Loading required package: autoencoder\n",
      "Loading required package: plotrix\n",
      "\n",
      "Attaching package: ‘plotrix’\n",
      "\n",
      "The following object is masked from ‘package:psych’:\n",
      "\n",
      "    rescale\n",
      "\n",
      "Loading required package: clValid\n",
      "Loading required package: cluster\n",
      "Loading required package: factoextra\n",
      "Loading required package: ggplot2\n",
      "\n",
      "Attaching package: ‘ggplot2’\n",
      "\n",
      "The following objects are masked from ‘package:psych’:\n",
      "\n",
      "    %+%, alpha\n",
      "\n"
     ]
    }
   ],
   "source": [
    "if (!require(\"stringr\")) { install.packages(\"stringr\", lib='/R/library', repos='http://cran.us.r-project.org') }\n",
    "if (!require(\"magrittr\")) { install.packages(\"magrittr\", lib='/R/library', repos='http://cran.us.r-project.org') }\n",
    "if (!require(\"readr\")) { install.packages(\"readr\", lib='/R/library', repos='http://cran.us.r-project.org') }\n",
    "if (!require(\"readr\")) { install.packages(\"readr\", lib='/R/library', repos='http://cran.us.r-project.org') }\n",
    "if (!require(\"lubridate\")) { install.packages(\"lubridate\", lib='/R/library', repos='http://cran.us.r-project.org') }\n",
    "if (!require(\"tidyr\")) { install.packages(\"tidyr\", lib='/R/library', repos='http://cran.us.r-project.org') }\n",
    "if (!require(\"dplyr\")) { install.packages(\"dplyr\", lib='/R/library', repos='http://cran.us.r-project.org') }\n",
    "if (!require(\"zoo\")) { install.packages(\"zoo\", lib='/R/library', repos='http://cran.us.r-project.org') }\n",
    "if (!require(\"purrr\")) { install.packages(\"purrr\", lib='/R/library', repos='http://cran.us.r-project.org') }\n",
    "if (!require(\"psych\")) { install.packages(\"psych\", lib='/R/library', repos='http://cran.us.r-project.org') }\n",
    "if (!require(\"data.table\")) { install.packages(\"data.table\", lib='/R/library', repos='http://cran.us.r-project.org') }\n",
    "if (!require(\"moments\")) { install.packages(\"moments\", lib='/R/library', repos='http://cran.us.r-project.org') }\n",
    "if (!require(\"h2o\")) { install.packages(\"h2o\", type=\"source\", lib='/R/library', repos=(c(\"http://h2o-release.s3.amazonaws.com/h2o/rel-turin/4/R\"))) }\n",
    "if (!require(\"autoencoder\")) { install.packages(\"autoencoder\", lib='/R/library', repos='http://cran.us.r-project.org') }\n",
    "if (!require(\"plotrix\")) { install.packages(\"plotrix\", lib='/R/library', repos='http://cran.us.r-project.org') }\n",
    "if (!require(\"clValid\")) { install.packages(\"clValid\", lib='/R/library', repos='http://cran.us.r-project.org') }\n",
    "if (!require(\"factoextra\")) { install.packages(\"factoextra\", lib='/R/library', repos='http://cran.us.r-project.org') }\n",
    "if (! (\"methods\" %in% rownames(installed.packages()))) { install.packages(\"methods\", lib='/R/library', repos='http://cran.us.r-project.org') }\n",
    "if (! (\"statmod\" %in% rownames(installed.packages()))) { install.packages(\"statmod\", lib='/R/library', repos='http://cran.us.r-project.org') }\n",
    "if (! (\"stats\" %in% rownames(installed.packages()))) { install.packages(\"stats\", lib='/R/library', repos='http://cran.us.r-project.org') }\n",
    "if (! (\"graphics\" %in% rownames(installed.packages()))) { install.packages(\"graphics\", lib='/R/library', repos='http://cran.us.r-project.org') }\n",
    "if (! (\"RCurl\" %in% rownames(installed.packages()))) { install.packages(\"RCurl\", lib='/R/library', repos='http://cran.us.r-project.org') }\n",
    "if (! (\"jsonlite\" %in% rownames(installed.packages()))) { install.packages(\"jsonlite\", lib='/R/library', repos='http://cran.us.r-project.org') }\n",
    "if (! (\"tools\" %in% rownames(installed.packages()))) { install.packages(\"tools\", lib='/R/library', repos='http://cran.us.r-project.org') }\n",
    "if (! (\"utils\" %in% rownames(installed.packages()))) { install.packages(\"utils\", lib='/R/library', repos='http://cran.us.r-project.org') }"
   ]
  },
  {
   "cell_type": "markdown",
   "metadata": {},
   "source": [
    "# Initialize h2o"
   ]
  },
  {
   "cell_type": "code",
   "execution_count": 3,
   "metadata": {
    "collapsed": false
   },
   "outputs": [
    {
     "name": "stdout",
     "output_type": "stream",
     "text": [
      " Connection successful!\n",
      "\n",
      "R is connected to the H2O cluster: \n",
      "    H2O cluster uptime:         29 days 23 hours \n",
      "    H2O cluster version:        3.8.3.4 \n",
      "    H2O cluster name:           root \n",
      "    H2O cluster total nodes:    1 \n",
      "    H2O cluster total memory:   0.50 GB \n",
      "    H2O cluster total cores:    32 \n",
      "    H2O cluster allowed cores:  32 \n",
      "    H2O cluster healthy:        TRUE \n",
      "    H2O Connection ip:          15.8.169.215 \n",
      "    H2O Connection port:        54321 \n",
      "    H2O Connection proxy:       NA \n",
      "    R Version:                  R version 3.3.1 (2016-06-21) \n",
      "\n"
     ]
    }
   ],
   "source": [
    "library(h2o)\n",
    "h2o.init(ip = \"15.8.169.215\", port = 54321, startH2O = F)"
   ]
  },
  {
   "cell_type": "code",
   "execution_count": 9,
   "metadata": {
    "collapsed": true
   },
   "outputs": [],
   "source": [
    "load('data_ps_days_train.dat')"
   ]
  },
  {
   "cell_type": "code",
   "execution_count": 7,
   "metadata": {
    "collapsed": false
   },
   "outputs": [
    {
     "name": "stdout",
     "output_type": "stream",
     "text": [
      "Observations: \n"
     ]
    },
    {
     "ename": "ERROR",
     "evalue": "Error in if (ncol(tbl) == 0) return(invisible()): argument is of length zero\n",
     "output_type": "error",
     "traceback": [
      "Error in if (ncol(tbl) == 0) return(invisible()): argument is of length zero\nTraceback:\n",
      "1. glimpse(data)"
     ]
    }
   ],
   "source": [
    "glimpse(data)"
   ]
  },
  {
   "cell_type": "code",
   "execution_count": 10,
   "metadata": {
    "collapsed": false
   },
   "outputs": [
    {
     "data": {
      "text/html": [
       "'data_ps_days_train'"
      ],
      "text/latex": [
       "'data\\_ps\\_days\\_train'"
      ],
      "text/markdown": [
       "'data_ps_days_train'"
      ],
      "text/plain": [
       "[1] \"data_ps_days_train\""
      ]
     },
     "metadata": {},
     "output_type": "display_data"
    }
   ],
   "source": [
    "head(data)"
   ]
  },
  {
   "cell_type": "code",
   "execution_count": null,
   "metadata": {
    "collapsed": true
   },
   "outputs": [],
   "source": []
  }
 ],
 "metadata": {
  "kernelspec": {
   "display_name": "R",
   "language": "R",
   "name": "ir"
  },
  "language_info": {
   "codemirror_mode": "r",
   "file_extension": ".r",
   "mimetype": "text/x-r-source",
   "name": "R",
   "pygments_lexer": "r",
   "version": "3.3.1"
  }
 },
 "nbformat": 4,
 "nbformat_minor": 0
}
