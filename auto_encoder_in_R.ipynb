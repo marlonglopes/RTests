{
 "cells": [
  {
   "cell_type": "markdown",
   "metadata": {
    "collapsed": false
   },
   "source": [
    "# Auto Encoder over printer features"
   ]
  },
  {
   "cell_type": "markdown",
   "metadata": {},
   "source": [
    "## Install required packages"
   ]
  },
  {
   "cell_type": "code",
   "execution_count": 47,
   "metadata": {
    "collapsed": false
   },
   "outputs": [
    {
     "name": "stderr",
     "output_type": "stream",
     "text": [
      "Loading required package: IsolationForest\n"
     ]
    },
    {
     "name": "stdout",
     "output_type": "stream",
     "text": [
      "IsolationForest 0.0-26 \n"
     ]
    }
   ],
   "source": [
    "if (!require(\"stringr\")) { install.packages(\"stringr\", lib='/R/library', repos='http://cran.us.r-project.org') }\n",
    "if (!require(\"magrittr\")) { install.packages(\"magrittr\", lib='/R/library', repos='http://cran.us.r-project.org') }\n",
    "if (!require(\"readr\")) { install.packages(\"readr\", lib='/R/library', repos='http://cran.us.r-project.org') }\n",
    "if (!require(\"readr\")) { install.packages(\"readr\", lib='/R/library', repos='http://cran.us.r-project.org') }\n",
    "if (!require(\"lubridate\")) { install.packages(\"lubridate\", lib='/R/library', repos='http://cran.us.r-project.org') }\n",
    "if (!require(\"tidyr\")) { install.packages(\"tidyr\", lib='/R/library', repos='http://cran.us.r-project.org') }\n",
    "if (!require(\"dplyr\")) { install.packages(\"dplyr\", lib='/R/library', repos='http://cran.us.r-project.org') }\n",
    "if (!require(\"zoo\")) { install.packages(\"zoo\", lib='/R/library', repos='http://cran.us.r-project.org') }\n",
    "if (!require(\"purrr\")) { install.packages(\"purrr\", lib='/R/library', repos='http://cran.us.r-project.org') }\n",
    "if (!require(\"psych\")) { install.packages(\"psych\", lib='/R/library', repos='http://cran.us.r-project.org') }\n",
    "if (!require(\"data.table\")) { install.packages(\"data.table\", lib='/R/library', repos='http://cran.us.r-project.org') }\n",
    "if (!require(\"moments\")) { install.packages(\"moments\", lib='/R/library', repos='http://cran.us.r-project.org') }\n",
    "if (!require(\"h2o\")) { install.packages(\"h2o\", type=\"source\", lib='/R/library', repos=(c(\"http://h2o-release.s3.amazonaws.com/h2o/rel-turin/4/R\"))) }\n",
    "if (!require(\"autoencoder\")) { install.packages(\"autoencoder\", lib='/R/library', repos='http://cran.us.r-project.org') }\n",
    "if (!require(\"IsolationForest\")) { install.packages(\"IsolationForest\", lib='/R/library', repos='http://cran.us.r-project.org') }\n",
    "if (! (\"methods\" %in% rownames(installed.packages()))) { install.packages(\"methods\", lib='/R/library', repos='http://cran.us.r-project.org') }\n",
    "if (! (\"statmod\" %in% rownames(installed.packages()))) { install.packages(\"statmod\", lib='/R/library', repos='http://cran.us.r-project.org') }\n",
    "if (! (\"stats\" %in% rownames(installed.packages()))) { install.packages(\"stats\", lib='/R/library', repos='http://cran.us.r-project.org') }\n",
    "if (! (\"graphics\" %in% rownames(installed.packages()))) { install.packages(\"graphics\", lib='/R/library', repos='http://cran.us.r-project.org') }\n",
    "if (! (\"RCurl\" %in% rownames(installed.packages()))) { install.packages(\"RCurl\", lib='/R/library', repos='http://cran.us.r-project.org') }\n",
    "if (! (\"jsonlite\" %in% rownames(installed.packages()))) { install.packages(\"jsonlite\", lib='/R/library', repos='http://cran.us.r-project.org') }\n",
    "if (! (\"tools\" %in% rownames(installed.packages()))) { install.packages(\"tools\", lib='/R/library', repos='http://cran.us.r-project.org') }\n",
    "if (! (\"utils\" %in% rownames(installed.packages()))) { install.packages(\"utils\", lib='/R/library', repos='http://cran.us.r-project.org') }"
   ]
  },
  {
   "cell_type": "markdown",
   "metadata": {},
   "source": [
    "## Load data"
   ]
  },
  {
   "cell_type": "code",
   "execution_count": 71,
   "metadata": {
    "collapsed": false
   },
   "outputs": [
    {
     "name": "stdout",
     "output_type": "stream",
     "text": [
      "Observations: 1,211,693\n",
      "Variables: 22\n",
      "$ event_RowNumber (dbl) 15765585098, 15765585142, 15765585284, 15765585445,...\n",
      "$ event_press     (int) 45000586, 45000586, 45000586, 45000586, 45000586, 4...\n",
      "$ Product_Line    (fctr) HP Indigo 7600, HP Indigo 7600, HP Indigo 7600, HP...\n",
      "$ series          (fctr) 7000 Family Sheet Fed Commercial Press, 7000 Famil...\n",
      "$ Region          (fctr) North America, North America, North America, North...\n",
      "$ SubRegion       (fctr) MidAtlantic United States, MidAtlantic United Stat...\n",
      "$ District        (fctr) UNITED STATES, UNITED STATES, UNITED STATES, UNITE...\n",
      "$ Ownership       (fctr) DIRECT, DIRECT, DIRECT, DIRECT, DIRECT, DIRECT, DI...\n",
      "$ event_recNum    (int) 739828, 739878, 740037, 740221, 740224, 740554, 740...\n",
      "$ event_date      (chr) \"2016-06-08 00:00:00.000\", \"2016-06-08 00:00:00.000...\n",
      "$ event_time      (int) 74703, 75903, 84709, 93603, 95930, 120644, 132213, ...\n",
      "$ event_name      (fctr) SAMPLE_PIP_AND_IMO_PARAMETERS, SAMPLE_PIP_AND_IMO_...\n",
      "$ event_state     (fctr) PRINT_STATE, PRINT_STATE, READY_STATE, READY_STATE...\n",
      "$ full_time       (time) 2016-06-08 07:47:03, 2016-06-08 07:59:03, 2016-06-...\n",
      "$ PIP_Temperature (int) 302, 298, 287, 279, 268, 278, 280, 289, 278, 241, 2...\n",
      "$ IO_temperature  (int) 242, 243, 243, 240, 240, 286, 248, 256, 252, 240, 2...\n",
      "$ IO_dirtiness    (int) 825, 825, 825, 825, 825, 825, 825, 738, 738, 998, 9...\n",
      "$ vessel_flow     (int) 4092, 4170, NA, NA, NA, NA, NA, NA, NA, NA, NA, NA,...\n",
      "$ IO_Conductivity (int) 4, 4, NA, NA, NA, NA, NA, NA, NA, NA, NA, NA, NA, N...\n",
      "$ CS_Voltage      (int) 1846, 1846, 1846, 1846, 1846, 1846, 1846, 2106, 210...\n",
      "$ Delta_Pressure  (int) 64, 64, 64, 64, 64, 0, 64, 0, 0, 0, 0, 0, 0, 0, 0, ...\n",
      "$ SWv             (fctr) V11_4_i40 I-Fix 1_i11, V11_4_i40 I-Fix 1_i11, V11_...\n"
     ]
    }
   ],
   "source": [
    "load('IndigoData.dat')\n",
    "glimpse(data)"
   ]
  },
  {
   "cell_type": "markdown",
   "metadata": {},
   "source": [
    "## Obtain only the necessary rows and columns from original dataset"
   ]
  },
  {
   "cell_type": "code",
   "execution_count": 72,
   "metadata": {
    "collapsed": false
   },
   "outputs": [
    {
     "name": "stdout",
     "output_type": "stream",
     "text": [
      "Observations: 203,675\n",
      "Variables: 12\n",
      "$ event_RowNumber (dbl) 15765585098, 15765585142, 15796104836, 15796104841,...\n",
      "$ Product_Line    (fctr) HP Indigo 7600, HP Indigo 7600, HP Indigo 7600, HP...\n",
      "$ District        (fctr) UNITED STATES, UNITED STATES, UNITED STATES, UNITE...\n",
      "$ event_state     (fctr) PRINT_STATE, PRINT_STATE, PRINT_STATE, PRINT_STATE...\n",
      "$ PIP_Temperature (int) 302, 298, 281, 271, 281, 281, 280, 284, 280, 278, 2...\n",
      "$ IO_temperature  (int) 242, 243, 270, 257, 248, 248, 247, 245, 246, 257, 2...\n",
      "$ IO_dirtiness    (int) 825, 825, 987, 987, 987, 987, 987, 987, 987, 987, 9...\n",
      "$ vessel_flow     (int) 4092, 4170, 4164, 4056, 4530, 4164, 4110, 4254, 413...\n",
      "$ IO_Conductivity (int) 4, 4, 5, 5, 4, 4, 4, 4, 4, 3, 4, 4, 4, 5, 4, 3, 3, ...\n",
      "$ CS_Voltage      (int) 1846, 1846, 1954, 1954, 1954, 1954, 1954, 1954, 195...\n",
      "$ Delta_Pressure  (int) 64, 64, 0, 0, 0, 0, 0, 0, 0, 0, 0, 0, 0, 0, 0, 0, 0...\n",
      "$ SWv             (fctr) V11_4_i40 I-Fix 1_i11, V11_4_i40 I-Fix 1_i11, V11_...\n"
     ]
    }
   ],
   "source": [
    "relevant_data <- data %>%\n",
    "    filter(event_state == \"PRINT_STATE\") %>%\n",
    "    select(\n",
    "        event_RowNumber, Product_Line, District, event_state, \n",
    "        PIP_Temperature, IO_temperature, IO_dirtiness, vessel_flow, \n",
    "        IO_Conductivity, CS_Voltage, Delta_Pressure, SWv\n",
    "    )       \n",
    "\n",
    "glimpse(relevant_data)"
   ]
  },
  {
   "cell_type": "markdown",
   "metadata": {},
   "source": [
    "## Converting factor-based columns to one-hot-encoding"
   ]
  },
  {
   "cell_type": "code",
   "execution_count": 73,
   "metadata": {
    "collapsed": false
   },
   "outputs": [],
   "source": [
    "one_hot_product_line <- as.data.frame(dummy.code(relevant_data$Product_Line))\n",
    "one_hot_district <- as.data.frame(dummy.code(relevant_data$District))\n",
    "one_hot_event_state <- as.data.frame(dummy.code(relevant_data$event_state))\n",
    "one_hot_swv <- as.data.frame(dummy.code(relevant_data$SWv))"
   ]
  },
  {
   "cell_type": "markdown",
   "metadata": {},
   "source": [
    "## Treating missing values in vessel_flow and IO_Conductivity columns"
   ]
  },
  {
   "cell_type": "code",
   "execution_count": 74,
   "metadata": {
    "collapsed": false
   },
   "outputs": [],
   "source": [
    "presence_vessel_flow <- as.integer(!is.na(relevant_data$vessel_flow))\n",
    "presence_io_conductivity <- as.integer(!is.na(relevant_data$IO_Conductivity))"
   ]
  },
  {
   "cell_type": "markdown",
   "metadata": {},
   "source": [
    "## Binding new columns to new dataframe"
   ]
  },
  {
   "cell_type": "code",
   "execution_count": 75,
   "metadata": {
    "collapsed": false
   },
   "outputs": [
    {
     "name": "stdout",
     "output_type": "stream",
     "text": [
      "Observations: 203,675\n",
      "Variables: 41\n",
      "$ event_RowNumber        (dbl) 15765585098, 15765585142, 15796104836, 15796...\n",
      "$ PIP_Temperature        (int) 302, 298, 281, 271, 281, 281, 280, 284, 280,...\n",
      "$ IO_temperature         (int) 242, 243, 270, 257, 248, 248, 247, 245, 246,...\n",
      "$ IO_dirtiness           (int) 825, 825, 987, 987, 987, 987, 987, 987, 987,...\n",
      "$ CS_Voltage             (int) 1846, 1846, 1954, 1954, 1954, 1954, 1954, 19...\n",
      "$ Delta_Pressure         (int) 64, 64, 0, 0, 0, 0, 0, 0, 0, 0, 0, 0, 0, 0, ...\n",
      "$ HP Indigo 7000         (dbl) 0, 0, 0, 0, 0, 0, 0, 0, 0, 0, 0, 0, 0, 0, 0,...\n",
      "$ HP Indigo 7500         (dbl) 0, 0, 0, 0, 0, 0, 0, 0, 0, 0, 0, 0, 0, 0, 0,...\n",
      "$ HP Indigo 7600         (dbl) 1, 1, 1, 1, 1, 1, 1, 1, 1, 1, 1, 1, 1, 1, 1,...\n",
      "$ BELGIUM                (dbl) 0, 0, 0, 0, 0, 0, 0, 0, 0, 0, 0, 0, 0, 0, 0,...\n",
      "$ Canada                 (dbl) 0, 0, 0, 0, 0, 0, 0, 0, 0, 0, 0, 0, 0, 0, 0,...\n",
      "$ FRANCE                 (dbl) 0, 0, 0, 0, 0, 0, 0, 0, 0, 0, 0, 0, 0, 0, 0,...\n",
      "$ GERMANY                (dbl) 0, 0, 0, 0, 0, 0, 0, 0, 0, 0, 0, 0, 0, 0, 0,...\n",
      "$ GUERNSEY               (dbl) 0, 0, 0, 0, 0, 0, 0, 0, 0, 0, 0, 0, 0, 0, 0,...\n",
      "$ IRELAND                (dbl) 0, 0, 0, 0, 0, 0, 0, 0, 0, 0, 0, 0, 0, 0, 0,...\n",
      "$ ISRAEL                 (dbl) 0, 0, 0, 0, 0, 0, 0, 0, 0, 0, 0, 0, 0, 0, 0,...\n",
      "$ ITALY                  (dbl) 0, 0, 0, 0, 0, 0, 0, 0, 0, 0, 0, 0, 0, 0, 0,...\n",
      "$ NETHERLANDS            (dbl) 0, 0, 0, 0, 0, 0, 0, 0, 0, 0, 0, 0, 0, 0, 0,...\n",
      "$ SPAIN                  (dbl) 0, 0, 0, 0, 0, 0, 0, 0, 0, 0, 0, 0, 0, 0, 0,...\n",
      "$ UNITED KINGDOM         (dbl) 0, 0, 0, 0, 0, 0, 0, 0, 0, 0, 0, 0, 0, 0, 0,...\n",
      "$ UNITED STATES          (dbl) 1, 1, 1, 1, 1, 1, 1, 1, 1, 1, 1, 1, 1, 1, 1,...\n",
      "$ HOLD_STATE             (dbl) 0, 0, 0, 0, 0, 0, 0, 0, 0, 0, 0, 0, 0, 0, 0,...\n",
      "$ OFF_STATE              (dbl) 0, 0, 0, 0, 0, 0, 0, 0, 0, 0, 0, 0, 0, 0, 0,...\n",
      "$ PRINT_STATE            (dbl) 1, 1, 1, 1, 1, 1, 1, 1, 1, 1, 1, 1, 1, 1, 1,...\n",
      "$ READY_STATE            (dbl) 0, 0, 0, 0, 0, 0, 0, 0, 0, 0, 0, 0, 0, 0, 0,...\n",
      "$ STANDBY_STATE          (dbl) 0, 0, 0, 0, 0, 0, 0, 0, 0, 0, 0, 0, 0, 0, 0,...\n",
      "$ V8_4_3_i30 I-Fix 2_i18 (dbl) 0, 0, 0, 0, 0, 0, 0, 0, 0, 0, 0, 0, 0, 0, 0,...\n",
      "$ V8_6_1_i57             (dbl) 0, 0, 0, 0, 0, 0, 0, 0, 0, 0, 0, 0, 0, 0, 0,...\n",
      "$ V8_6_1_i57 I-Fix 1_i20 (dbl) 0, 0, 0, 0, 0, 0, 0, 0, 0, 0, 0, 0, 0, 0, 0,...\n",
      "$ V8_6_3_i35             (dbl) 0, 0, 0, 0, 0, 0, 0, 0, 0, 0, 0, 0, 0, 0, 0,...\n",
      "$ V8_6_3_i35 I-Fix 1_i4  (dbl) 0, 0, 0, 0, 0, 0, 0, 0, 0, 0, 0, 0, 0, 0, 0,...\n",
      "$ V8_6_3_i35 I-Fix 2_i19 (dbl) 0, 0, 0, 0, 0, 0, 0, 0, 0, 0, 0, 0, 0, 0, 0,...\n",
      "$ V11_0_i10              (dbl) 0, 0, 0, 0, 0, 0, 0, 0, 0, 0, 0, 0, 0, 0, 0,...\n",
      "$ V11_2_i14              (dbl) 0, 0, 0, 0, 0, 0, 0, 0, 0, 0, 0, 0, 0, 0, 0,...\n",
      "$ V11_2_i18              (dbl) 0, 0, 0, 0, 0, 0, 0, 0, 0, 0, 0, 0, 0, 0, 0,...\n",
      "$ V11_4_i12              (dbl) 0, 0, 0, 0, 0, 0, 0, 0, 0, 0, 0, 0, 0, 0, 0,...\n",
      "$ V11_4_i40              (dbl) 0, 0, 0, 0, 0, 0, 0, 0, 0, 0, 0, 0, 0, 0, 0,...\n",
      "$ V11_4_i40 I-Fix 1_i11  (dbl) 1, 1, 1, 1, 1, 1, 1, 1, 1, 1, 1, 1, 1, 1, 1,...\n",
      "$ V12_0_i22              (dbl) 0, 0, 0, 0, 0, 0, 0, 0, 0, 0, 0, 0, 0, 0, 0,...\n",
      "$ p_vessel_flow          (int) 1, 1, 1, 1, 1, 1, 1, 1, 1, 1, 1, 1, 1, 1, 1,...\n",
      "$ p_io_conductivity      (int) 1, 1, 1, 1, 1, 1, 1, 1, 1, 1, 1, 1, 1, 1, 1,...\n"
     ]
    }
   ],
   "source": [
    "numerical_data <- relevant_data %>%\n",
    "    cbind(one_hot_product_line) %>%\n",
    "    cbind(one_hot_district) %>%\n",
    "    cbind(one_hot_event_state) %>%\n",
    "    cbind(one_hot_swv) %>%\n",
    "    mutate(p_vessel_flow = presence_vessel_flow) %>%\n",
    "    mutate(p_io_conductivity = presence_io_conductivity) %>%\n",
    "    select(-Product_Line, -District, -event_state, -SWv, -vessel_flow, -IO_Conductivity)\n",
    "\n",
    "glimpse(numerical_data)"
   ]
  },
  {
   "cell_type": "markdown",
   "metadata": {},
   "source": [
    "## Training isolation forest"
   ]
  },
  {
   "cell_type": "code",
   "execution_count": 78,
   "metadata": {
    "collapsed": true
   },
   "outputs": [],
   "source": [
    "train_data <- numerical_data %>% select(-event_RowNumber)"
   ]
  },
  {
   "cell_type": "code",
   "execution_count": 79,
   "metadata": {
    "collapsed": false
   },
   "outputs": [],
   "source": [
    "trained_model <- IsolationTrees(train_data, rFactor = 0)"
   ]
  },
  {
   "cell_type": "markdown",
   "metadata": {},
   "source": [
    "## Predicting with trained model"
   ]
  },
  {
   "cell_type": "code",
   "execution_count": 80,
   "metadata": {
    "collapsed": true
   },
   "outputs": [],
   "source": [
    "result <- AnomalyScore(train_data, trained_model)\n",
    "scores <- result$outF"
   ]
  },
  {
   "cell_type": "code",
   "execution_count": 81,
   "metadata": {
    "collapsed": true
   },
   "outputs": [],
   "source": [
    "final_df <- cbind(numerical_data, scores)"
   ]
  },
  {
   "cell_type": "code",
   "execution_count": 82,
   "metadata": {
    "collapsed": false
   },
   "outputs": [
    {
     "data": {
      "text/html": [
       "<table>\n",
       "<thead><tr><th></th><th scope=col>event_RowNumber</th><th scope=col>PIP_Temperature</th><th scope=col>IO_temperature</th><th scope=col>IO_dirtiness</th><th scope=col>CS_Voltage</th><th scope=col>Delta_Pressure</th><th scope=col>HP Indigo 7000</th><th scope=col>HP Indigo 7500</th><th scope=col>HP Indigo 7600</th><th scope=col>BELGIUM</th><th scope=col>⋯</th><th scope=col>V11_0_i10</th><th scope=col>V11_2_i14</th><th scope=col>V11_2_i18</th><th scope=col>V11_4_i12</th><th scope=col>V11_4_i40</th><th scope=col>V11_4_i40 I-Fix 1_i11</th><th scope=col>V12_0_i22</th><th scope=col>p_vessel_flow</th><th scope=col>p_io_conductivity</th><th scope=col>scores</th></tr></thead>\n",
       "<tbody>\n",
       "\t<tr><th scope=row>1</th><td>15765585098     </td><td>302             </td><td>242             </td><td>825             </td><td>1846            </td><td>64              </td><td>0               </td><td>0               </td><td>1               </td><td>0               </td><td>⋯               </td><td>0               </td><td>0               </td><td>0               </td><td>0               </td><td>0               </td><td>1               </td><td>0               </td><td>1               </td><td>1               </td><td>0.39139279696948</td></tr>\n",
       "\t<tr><th scope=row>2</th><td>15765585142     </td><td>298             </td><td>243             </td><td>825             </td><td>1846            </td><td>64              </td><td>0               </td><td>0               </td><td>1               </td><td>0               </td><td>⋯               </td><td>0               </td><td>0               </td><td>0               </td><td>0               </td><td>0               </td><td>1               </td><td>0               </td><td>1               </td><td>1               </td><td>0.39139279696948</td></tr>\n",
       "\t<tr><th scope=row>3</th><td>15796104836      </td><td>281              </td><td>270              </td><td>987              </td><td>1954             </td><td>0                </td><td>0                </td><td>0                </td><td>1                </td><td>0                </td><td>⋯                </td><td>0                </td><td>0                </td><td>0                </td><td>0                </td><td>0                </td><td>1                </td><td>0                </td><td>1                </td><td>1                </td><td>0.359296950483743</td></tr>\n",
       "\t<tr><th scope=row>4</th><td>15796104841      </td><td>271              </td><td>257              </td><td>987              </td><td>1954             </td><td>0                </td><td>0                </td><td>0                </td><td>1                </td><td>0                </td><td>⋯                </td><td>0                </td><td>0                </td><td>0                </td><td>0                </td><td>0                </td><td>1                </td><td>0                </td><td>1                </td><td>1                </td><td>0.359296950483743</td></tr>\n",
       "\t<tr><th scope=row>5</th><td>15796104862      </td><td>281              </td><td>248              </td><td>987              </td><td>1954             </td><td>0                </td><td>0                </td><td>0                </td><td>1                </td><td>0                </td><td>⋯                </td><td>0                </td><td>0                </td><td>0                </td><td>0                </td><td>0                </td><td>1                </td><td>0                </td><td>1                </td><td>1                </td><td>0.359296950483743</td></tr>\n",
       "\t<tr><th scope=row>6</th><td>15796104929      </td><td>281              </td><td>248              </td><td>987              </td><td>1954             </td><td>0                </td><td>0                </td><td>0                </td><td>1                </td><td>0                </td><td>⋯                </td><td>0                </td><td>0                </td><td>0                </td><td>0                </td><td>0                </td><td>1                </td><td>0                </td><td>1                </td><td>1                </td><td>0.359296950483743</td></tr>\n",
       "</tbody>\n",
       "</table>\n"
      ],
      "text/latex": [
       "\\begin{tabular}{r|llllllllllllllllllllllllllllllllllllllllll}\n",
       "  & event\\_RowNumber & PIP\\_Temperature & IO\\_temperature & IO\\_dirtiness & CS\\_Voltage & Delta\\_Pressure & HP Indigo 7000 & HP Indigo 7500 & HP Indigo 7600 & BELGIUM & ⋯ & V11\\_0\\_i10 & V11\\_2\\_i14 & V11\\_2\\_i18 & V11\\_4\\_i12 & V11\\_4\\_i40 & V11\\_4\\_i40 I-Fix 1\\_i11 & V12\\_0\\_i22 & p\\_vessel\\_flow & p\\_io\\_conductivity & scores\\\\\n",
       "\\hline\n",
       "\t1 & 15765585098      & 302              & 242              & 825              & 1846             & 64               & 0                & 0                & 1                & 0                & ⋯                & 0                & 0                & 0                & 0                & 0                & 1                & 0                & 1                & 1                & 0.39139279696948\\\\\n",
       "\t2 & 15765585142      & 298              & 243              & 825              & 1846             & 64               & 0                & 0                & 1                & 0                & ⋯                & 0                & 0                & 0                & 0                & 0                & 1                & 0                & 1                & 1                & 0.39139279696948\\\\\n",
       "\t3 & 15796104836       & 281               & 270               & 987               & 1954              & 0                 & 0                 & 0                 & 1                 & 0                 & ⋯                 & 0                 & 0                 & 0                 & 0                 & 0                 & 1                 & 0                 & 1                 & 1                 & 0.359296950483743\\\\\n",
       "\t4 & 15796104841       & 271               & 257               & 987               & 1954              & 0                 & 0                 & 0                 & 1                 & 0                 & ⋯                 & 0                 & 0                 & 0                 & 0                 & 0                 & 1                 & 0                 & 1                 & 1                 & 0.359296950483743\\\\\n",
       "\t5 & 15796104862       & 281               & 248               & 987               & 1954              & 0                 & 0                 & 0                 & 1                 & 0                 & ⋯                 & 0                 & 0                 & 0                 & 0                 & 0                 & 1                 & 0                 & 1                 & 1                 & 0.359296950483743\\\\\n",
       "\t6 & 15796104929       & 281               & 248               & 987               & 1954              & 0                 & 0                 & 0                 & 1                 & 0                 & ⋯                 & 0                 & 0                 & 0                 & 0                 & 0                 & 1                 & 0                 & 1                 & 1                 & 0.359296950483743\\\\\n",
       "\\end{tabular}\n"
      ],
      "text/plain": [
       "  event_RowNumber PIP_Temperature IO_temperature IO_dirtiness CS_Voltage\n",
       "1     15765585098             302            242          825       1846\n",
       "2     15765585142             298            243          825       1846\n",
       "3     15796104836             281            270          987       1954\n",
       "4     15796104841             271            257          987       1954\n",
       "5     15796104862             281            248          987       1954\n",
       "6     15796104929             281            248          987       1954\n",
       "  Delta_Pressure HP Indigo 7000 HP Indigo 7500 HP Indigo 7600 BELGIUM ⋯\n",
       "1             64              0              0              1       0 ⋯\n",
       "2             64              0              0              1       0 ⋯\n",
       "3              0              0              0              1       0 ⋯\n",
       "4              0              0              0              1       0 ⋯\n",
       "5              0              0              0              1       0 ⋯\n",
       "6              0              0              0              1       0 ⋯\n",
       "  V11_0_i10 V11_2_i14 V11_2_i18 V11_4_i12 V11_4_i40 V11_4_i40 I-Fix 1_i11\n",
       "1         0         0         0         0         0                     1\n",
       "2         0         0         0         0         0                     1\n",
       "3         0         0         0         0         0                     1\n",
       "4         0         0         0         0         0                     1\n",
       "5         0         0         0         0         0                     1\n",
       "6         0         0         0         0         0                     1\n",
       "  V12_0_i22 p_vessel_flow p_io_conductivity    scores\n",
       "1         0             1                 1 0.3913928\n",
       "2         0             1                 1 0.3913928\n",
       "3         0             1                 1 0.3592970\n",
       "4         0             1                 1 0.3592970\n",
       "5         0             1                 1 0.3592970\n",
       "6         0             1                 1 0.3592970"
      ]
     },
     "metadata": {},
     "output_type": "display_data"
    }
   ],
   "source": [
    "head(final_df)"
   ]
  },
  {
   "cell_type": "markdown",
   "metadata": {},
   "source": [
    "## List the most anomalous scores"
   ]
  },
  {
   "cell_type": "code",
   "execution_count": 84,
   "metadata": {
    "collapsed": false
   },
   "outputs": [
    {
     "name": "stdout",
     "output_type": "stream",
     "text": [
      "Observations: 3,301\n",
      "Variables: 42\n",
      "$ event_RowNumber        (dbl) 14580766067, 14274659960, 14291599396, 15295...\n",
      "$ PIP_Temperature        (int) 278, 286, 301, 287, 291, 275, 272, 282, 287,...\n",
      "$ IO_temperature         (int) 285, 245, 265, 236, 232, 341, 282, 271, 266,...\n",
      "$ IO_dirtiness           (int) 51, 987, 726, 678, 961, 757, 757, 1002, 1002...\n",
      "$ CS_Voltage             (int) 2053, 1876, 2363, 1804, 2200, 2336, 2336, 17...\n",
      "$ Delta_Pressure         (int) 0, 0, 64, 0, 64, 0, 0, 64, 64, 0, 0, 0, 0, 6...\n",
      "$ HP Indigo 7000         (dbl) 1, 1, 0, 0, 0, 1, 1, 0, 0, 0, 1, 1, 0, 0, 1,...\n",
      "$ HP Indigo 7500         (dbl) 0, 0, 1, 0, 1, 0, 0, 1, 1, 0, 0, 0, 0, 1, 0,...\n",
      "$ HP Indigo 7600         (dbl) 0, 0, 0, 1, 0, 0, 0, 0, 0, 1, 0, 0, 1, 0, 0,...\n",
      "$ BELGIUM                (dbl) 0, 0, 0, 0, 0, 0, 0, 0, 0, 0, 0, 0, 0, 0, 0,...\n",
      "$ Canada                 (dbl) 0, 0, 0, 0, 0, 0, 0, 0, 0, 0, 0, 0, 0, 0, 0,...\n",
      "$ FRANCE                 (dbl) 0, 0, 1, 1, 1, 1, 1, 0, 0, 1, 1, 1, 1, 1, 0,...\n",
      "$ GERMANY                (dbl) 1, 0, 0, 0, 0, 0, 0, 0, 0, 0, 0, 0, 0, 0, 0,...\n",
      "$ GUERNSEY               (dbl) 0, 0, 0, 0, 0, 0, 0, 0, 0, 0, 0, 0, 0, 0, 0,...\n",
      "$ IRELAND                (dbl) 0, 0, 0, 0, 0, 0, 0, 0, 0, 0, 0, 0, 0, 0, 0,...\n",
      "$ ISRAEL                 (dbl) 0, 0, 0, 0, 0, 0, 0, 0, 0, 0, 0, 0, 0, 0, 0,...\n",
      "$ ITALY                  (dbl) 0, 0, 0, 0, 0, 0, 0, 0, 0, 0, 0, 0, 0, 0, 0,...\n",
      "$ NETHERLANDS            (dbl) 0, 0, 0, 0, 0, 0, 0, 0, 0, 0, 0, 0, 0, 0, 1,...\n",
      "$ SPAIN                  (dbl) 0, 1, 0, 0, 0, 0, 0, 0, 0, 0, 0, 0, 0, 0, 0,...\n",
      "$ UNITED KINGDOM         (dbl) 0, 0, 0, 0, 0, 0, 0, 0, 0, 0, 0, 0, 0, 0, 0,...\n",
      "$ UNITED STATES          (dbl) 0, 0, 0, 0, 0, 0, 0, 1, 1, 0, 0, 0, 0, 0, 0,...\n",
      "$ HOLD_STATE             (dbl) 0, 0, 0, 0, 0, 0, 0, 0, 0, 0, 0, 0, 0, 0, 0,...\n",
      "$ OFF_STATE              (dbl) 0, 0, 0, 0, 0, 0, 0, 0, 0, 0, 0, 0, 0, 0, 0,...\n",
      "$ PRINT_STATE            (dbl) 1, 1, 1, 1, 1, 1, 1, 1, 1, 1, 1, 1, 1, 1, 1,...\n",
      "$ READY_STATE            (dbl) 0, 0, 0, 0, 0, 0, 0, 0, 0, 0, 0, 0, 0, 0, 0,...\n",
      "$ STANDBY_STATE          (dbl) 0, 0, 0, 0, 0, 0, 0, 0, 0, 0, 0, 0, 0, 0, 0,...\n",
      "$ V8_4_3_i30 I-Fix 2_i18 (dbl) 0, 0, 0, 0, 0, 0, 0, 0, 0, 0, 0, 0, 0, 0, 0,...\n",
      "$ V8_6_1_i57             (dbl) 0, 0, 0, 0, 0, 0, 0, 0, 0, 0, 0, 0, 0, 0, 0,...\n",
      "$ V8_6_1_i57 I-Fix 1_i20 (dbl) 1, 0, 0, 0, 0, 0, 0, 0, 0, 0, 0, 0, 0, 0, 0,...\n",
      "$ V8_6_3_i35             (dbl) 0, 0, 0, 0, 0, 0, 0, 0, 0, 0, 0, 0, 0, 0, 0,...\n",
      "$ V8_6_3_i35 I-Fix 1_i4  (dbl) 0, 0, 0, 0, 0, 0, 0, 0, 0, 0, 0, 0, 0, 0, 0,...\n",
      "$ V8_6_3_i35 I-Fix 2_i19 (dbl) 0, 0, 0, 0, 0, 0, 0, 0, 0, 0, 0, 0, 0, 0, 0,...\n",
      "$ V11_0_i10              (dbl) 0, 0, 0, 0, 0, 0, 0, 0, 0, 0, 0, 0, 0, 0, 0,...\n",
      "$ V11_2_i14              (dbl) 0, 0, 0, 0, 0, 0, 0, 0, 0, 0, 0, 0, 0, 0, 0,...\n",
      "$ V11_2_i18              (dbl) 0, 1, 1, 0, 1, 1, 1, 0, 0, 0, 0, 0, 0, 1, 1,...\n",
      "$ V11_4_i12              (dbl) 0, 0, 0, 0, 0, 0, 0, 0, 0, 0, 0, 0, 0, 0, 0,...\n",
      "$ V11_4_i40              (dbl) 0, 0, 0, 0, 0, 0, 0, 1, 1, 0, 1, 1, 0, 0, 0,...\n",
      "$ V11_4_i40 I-Fix 1_i11  (dbl) 0, 0, 0, 1, 0, 0, 0, 0, 0, 1, 0, 0, 1, 0, 0,...\n",
      "$ V12_0_i22              (dbl) 0, 0, 0, 0, 0, 0, 0, 0, 0, 0, 0, 0, 0, 0, 0,...\n",
      "$ p_vessel_flow          (int) 1, 1, 0, 1, 1, 0, 0, 0, 0, 1, 1, 1, 1, 0, 1,...\n",
      "$ p_io_conductivity      (int) 0, 0, 0, 0, 0, 0, 0, 1, 1, 0, 0, 0, 0, 0, 0,...\n",
      "$ scores                 (dbl) 0.9710601, 0.8384490, 0.8141844, 0.8141844, ...\n"
     ]
    }
   ],
   "source": [
    "most_anomalous <- final_df %>%\n",
    "    filter(scores > 0.7) %>%\n",
    "    arrange(desc(scores))\n",
    "\n",
    "glimpse( most_anomalous )"
   ]
  },
  {
   "cell_type": "markdown",
   "metadata": {},
   "source": [
    "## Clustering anomaly scores"
   ]
  },
  {
   "cell_type": "markdown",
   "metadata": {},
   "source": [
    "### Normalizing columns prior to clustering"
   ]
  },
  {
   "cell_type": "code",
   "execution_count": null,
   "metadata": {
    "collapsed": true
   },
   "outputs": [],
   "source": [
    "most_anomaloust <- normalized between 0 and 1 (all columns)"
   ]
  },
  {
   "cell_type": "markdown",
   "metadata": {},
   "source": [
    "### Execute K-Means"
   ]
  },
  {
   "cell_type": "code",
   "execution_count": 68,
   "metadata": {
    "collapsed": false
   },
   "outputs": [],
   "source": [
    "score_clusters <- kmeans( select(highest_scores,-event_RowNumber,-scores) , iter.max = 5, centers = 5,  nstart=10)"
   ]
  },
  {
   "cell_type": "code",
   "execution_count": 69,
   "metadata": {
    "collapsed": false
   },
   "outputs": [
    {
     "data": {
      "text/plain": [
       "K-means clustering with 5 clusters of sizes 112, 141, 13, 2868, 167\n",
       "\n",
       "Cluster means:\n",
       "       [,1]\n",
       "1 0.7445592\n",
       "2 0.7689815\n",
       "3 0.8258511\n",
       "4 0.7029967\n",
       "5 0.7221235\n",
       "\n",
       "Clustering vector:\n",
       "   [1] 4 4 4 4 4 4 4 4 4 4 4 4 4 4 4 4 4 4 4 4 4 4 1 5 5 4 1 1 4 5 4 4 2 2 2 1 4\n",
       "  [38] 4 4 4 4 4 4 4 4 4 4 4 4 4 4 4 4 4 4 4 4 4 4 4 4 4 4 4 4 4 4 4 4 4 4 4 4 4\n",
       "  [75] 1 1 1 2 4 4 4 4 4 4 1 4 4 4 4 2 4 4 4 4 4 4 4 4 4 4 4 4 4 4 4 4 4 4 4 4 4\n",
       " [112] 4 4 4 4 2 4 4 5 4 4 4 4 4 4 4 4 4 4 4 4 4 4 4 4 4 4 4 4 4 4 4 4 5 4 4 4 4\n",
       " [149] 4 4 4 4 4 4 4 5 4 4 4 4 4 5 4 4 4 4 4 4 4 4 4 4 4 4 4 4 4 2 4 4 4 4 4 4 4\n",
       " [186] 4 4 4 4 4 4 4 4 4 4 4 4 4 4 4 4 4 4 4 4 4 4 4 4 4 4 4 4 4 4 4 4 4 4 4 4 2\n",
       " [223] 4 4 4 4 4 4 4 4 4 4 4 5 4 4 4 4 5 4 1 1 4 4 4 4 4 4 4 4 4 4 4 4 4 4 5 4 4\n",
       " [260] 4 4 5 5 4 5 1 1 4 5 4 4 4 4 4 1 4 4 4 4 4 4 4 4 4 4 4 4 4 4 4 4 4 5 2 5 4\n",
       " [297] 4 1 4 4 4 4 4 4 4 4 4 4 4 4 4 4 4 4 4 4 4 4 4 4 4 4 4 4 4 4 4 4 4 4 4 4 4\n",
       " [334] 4 4 4 4 4 4 4 4 4 4 4 4 4 4 4 4 4 4 5 4 4 4 4 4 4 4 4 4 4 4 4 4 4 4 4 4 4\n",
       " [371] 4 4 4 4 4 4 4 4 4 4 4 4 4 4 4 4 4 4 4 4 4 4 4 5 4 4 4 4 4 4 4 4 4 4 4 4 4\n",
       " [408] 4 4 4 5 4 4 4 4 4 4 4 4 4 4 4 4 4 4 4 4 4 4 4 4 4 4 4 4 4 4 4 4 4 4 4 4 4\n",
       " [445] 4 4 4 5 4 4 4 4 4 4 4 4 4 4 4 4 4 4 4 4 4 4 4 4 4 4 4 4 4 4 4 4 4 4 4 4 4\n",
       " [482] 4 4 2 2 2 4 4 4 4 4 4 4 4 4 4 4 4 4 4 4 4 4 4 4 4 4 4 4 4 4 4 4 4 4 4 4 4\n",
       " [519] 4 4 1 4 4 4 4 4 4 4 4 4 4 4 4 4 4 4 4 5 4 4 5 4 4 4 4 4 4 4 4 4 1 4 4 4 4\n",
       " [556] 4 4 4 4 4 4 4 4 4 4 4 4 4 4 4 4 4 4 4 4 4 4 4 2 4 4 4 4 4 4 4 4 4 4 4 4 4\n",
       " [593] 4 4 4 4 4 4 4 4 4 4 4 4 4 4 4 4 4 4 4 4 4 4 4 2 1 2 5 3 4 1 4 4 4 4 4 4 5\n",
       " [630] 5 5 4 4 4 4 4 4 2 2 2 3 4 4 5 4 4 4 4 4 4 2 5 4 4 4 4 4 4 4 1 1 4 1 5 4 4\n",
       " [667] 4 4 4 4 4 4 4 4 4 4 1 4 4 4 4 4 4 4 5 2 2 2 2 4 5 4 5 5 4 4 4 5 4 4 4 4 4\n",
       " [704] 4 4 4 1 4 4 4 4 4 4 4 4 4 4 4 4 2 4 3 4 4 4 4 4 4 4 4 4 4 4 4 4 4 2 2 2 2\n",
       " [741] 4 4 4 2 2 5 2 4 4 4 4 4 4 4 4 4 4 4 4 4 1 4 4 4 4 4 4 4 4 4 4 4 4 4 4 4 4\n",
       " [778] 4 4 4 4 4 4 4 4 4 4 4 4 4 4 2 2 5 4 4 4 4 4 1 1 4 4 4 4 4 4 4 4 5 5 5 1 4\n",
       " [815] 4 4 4 4 4 4 4 4 4 4 4 4 4 4 4 4 4 4 4 4 5 4 4 4 4 4 5 4 5 4 4 1 4 4 2 4 4\n",
       " [852] 4 4 4 1 4 4 2 4 4 4 4 4 4 4 4 2 4 4 4 4 5 2 4 4 4 4 4 4 4 4 4 4 4 4 4 4 4\n",
       " [889] 4 4 4 4 4 4 4 4 4 4 4 4 4 4 4 4 4 4 4 4 2 2 2 4 4 4 4 4 4 4 4 4 4 4 4 4 4\n",
       " [926] 4 4 4 4 4 4 4 4 4 4 4 4 4 4 2 4 4 4 4 4 4 4 4 4 4 4 4 4 4 4 4 4 4 5 1 5 4\n",
       " [963] 4 4 4 4 4 4 4 4 4 4 4 4 4 4 4 4 4 4 4 4 4 4 4 4 4 4 2 1 1 4 4 4 4 4 4 4 4\n",
       "[1000] 4 4 4 4 4 4 4 4 4 4 4 4 4 4 4 4 4 4 4 4 4 4 4 4 4 4 4 4 4 4 4 4 4 4 4 4 4\n",
       "[1037] 4 4 4 4 4 4 4 4 4 4 4 4 1 4 4 4 4 4 4 4 4 4 4 4 1 1 1 1 1 1 1 4 4 4 1 2 2\n",
       "[1074] 4 4 4 4 4 4 4 4 4 4 4 4 4 4 4 4 4 4 4 4 4 4 4 4 4 4 4 2 4 4 4 4 5 4 4 4 4\n",
       "[1111] 4 4 4 4 1 4 5 5 5 4 4 4 4 4 4 4 4 4 4 4 4 4 4 4 4 4 1 4 4 4 4 2 2 4 4 4 4\n",
       "[1148] 4 4 4 4 4 4 4 4 4 4 4 4 4 4 4 4 4 4 4 4 4 4 4 4 4 4 4 4 4 4 4 4 4 4 4 1 4\n",
       "[1185] 4 4 4 4 4 4 4 4 5 4 2 2 2 2 4 2 2 4 4 4 4 4 4 5 4 4 4 4 4 4 4 4 4 4 4 4 4\n",
       "[1222] 4 4 4 4 4 4 4 1 4 4 4 4 1 4 4 4 4 4 4 4 4 4 4 4 4 4 4 4 4 4 4 4 4 4 4 4 5\n",
       "[1259] 4 4 4 4 4 4 4 4 4 4 4 4 4 4 1 5 5 4 4 4 4 4 4 4 4 4 4 4 4 4 4 4 1 1 1 5 5\n",
       "[1296] 1 2 1 4 2 4 4 4 4 4 1 4 4 4 4 4 4 4 4 4 4 4 4 4 4 4 4 4 4 4 4 1 1 4 4 4 4\n",
       "[1333] 4 4 2 4 4 4 4 4 5 1 4 4 4 4 4 4 4 4 4 4 4 4 4 4 4 4 4 4 4 4 1 5 5 4 2 4 4\n",
       "[1370] 4 4 4 4 4 4 4 4 4 4 4 4 4 4 4 4 4 4 4 4 4 4 4 4 4 4 4 4 4 4 4 4 4 4 4 4 4\n",
       "[1407] 4 4 4 4 4 4 4 4 4 4 4 4 4 4 4 4 4 4 4 4 4 1 3 2 2 4 4 4 4 4 4 4 4 4 4 4 4\n",
       "[1444] 4 4 4 1 4 4 4 4 4 5 5 5 5 4 4 4 4 4 4 4 4 4 4 4 4 4 1 1 4 4 4 4 4 4 4 4 4\n",
       "[1481] 4 4 4 1 5 4 4 4 4 4 4 4 2 4 4 4 4 4 4 1 5 1 5 4 2 4 1 4 5 5 4 4 4 4 4 4 4\n",
       "[1518] 2 4 2 5 2 4 4 4 4 4 4 4 4 4 4 4 4 4 4 4 4 4 4 4 4 4 4 4 4 4 4 4 4 4 2 2 4\n",
       "[1555] 4 4 4 4 4 4 4 4 4 4 4 4 4 4 4 4 4 4 4 4 4 4 4 4 4 4 4 4 4 4 4 4 4 4 4 5 5\n",
       "[1592] 5 5 5 1 5 4 4 4 4 4 4 4 4 4 4 4 4 4 4 4 4 2 2 4 4 4 4 4 4 4 4 4 4 1 4 4 4\n",
       "[1629] 5 4 2 2 2 2 4 2 2 2 4 4 4 4 4 4 4 4 4 4 4 4 4 4 4 4 4 4 4 4 4 4 4 4 4 4 4\n",
       "[1666] 4 4 4 4 4 4 4 4 4 4 4 4 4 2 4 4 4 4 4 4 4 4 4 4 2 4 4 4 1 1 4 4 4 4 4 4 5\n",
       "[1703] 5 4 4 4 4 4 4 4 4 5 4 2 4 4 4 4 4 4 4 4 4 4 4 4 4 4 4 4 4 4 4 4 4 4 1 4 4\n",
       "[1740] 2 5 4 4 4 4 4 4 4 4 4 4 4 4 4 4 4 4 4 4 4 4 4 4 5 4 2 2 2 4 4 4 5 5 5 5 5\n",
       "[1777] 5 5 5 4 4 4 4 4 2 4 4 4 4 5 4 4 4 4 4 4 4 4 4 4 4 4 4 4 4 4 4 4 4 4 4 4 4\n",
       "[1814] 4 4 5 4 4 4 4 4 4 4 4 4 4 4 4 4 4 4 4 4 4 4 4 4 4 4 4 4 5 4 4 4 4 1 5 4 4\n",
       "[1851] 4 4 4 4 4 4 4 4 4 4 4 4 4 4 4 4 4 4 4 4 4 4 4 4 4 4 4 4 4 4 4 4 4 4 4 4 4\n",
       "[1888] 4 4 4 4 4 4 4 2 4 4 4 4 4 4 4 4 4 4 4 4 4 4 4 5 4 4 4 4 4 4 4 4 4 4 4 4 4\n",
       "[1925] 4 4 4 4 4 4 4 4 4 4 4 4 4 4 5 5 5 5 4 4 4 4 4 5 4 4 4 4 4 4 4 4 4 4 4 4 4\n",
       "[1962] 4 5 4 4 4 1 1 2 4 4 5 4 2 4 4 4 4 4 4 4 5 4 4 4 4 4 4 4 4 4 4 4 4 4 4 4 4\n",
       "[1999] 4 4 2 4 4 4 4 4 4 4 4 4 4 4 4 4 5 5 5 4 4 3 3 4 4 4 4 4 4 4 4 4 4 4 4 4 4\n",
       "[2036] 4 1 4 4 4 5 4 4 4 2 2 2 4 4 4 4 4 5 4 4 4 4 5 5 4 4 4 4 4 4 2 4 4 4 4 4 4\n",
       "[2073] 4 4 1 4 4 4 4 4 4 4 5 4 4 4 4 4 4 4 4 4 4 4 4 4 5 4 4 4 4 4 4 4 5 4 4 4 4\n",
       "[2110] 4 4 4 4 4 4 4 4 4 4 4 4 4 4 4 1 4 1 2 2 4 4 4 4 4 4 4 4 4 4 4 4 4 4 4 4 4\n",
       "[2147] 4 4 4 4 4 4 4 4 4 4 4 4 4 4 4 4 4 4 4 4 4 4 4 4 4 4 4 4 4 4 5 5 5 4 4 4 4\n",
       "[2184] 4 4 4 4 4 4 4 4 4 4 4 4 4 4 4 4 4 4 4 4 4 4 4 4 4 4 4 4 4 4 4 4 4 4 2 1 4\n",
       "[2221] 4 4 4 4 4 1 1 1 1 4 4 4 4 4 4 4 4 4 4 4 4 4 4 4 4 4 4 4 4 4 4 4 4 4 4 4 4\n",
       "[2258] 4 4 4 4 4 3 1 2 4 4 4 4 4 1 4 4 4 4 4 4 4 4 4 4 4 4 4 4 4 4 4 4 4 4 4 4 4\n",
       "[2295] 4 4 4 4 4 4 4 4 4 4 4 4 4 4 4 4 4 4 4 5 4 4 4 4 4 4 4 4 4 4 4 4 4 4 4 4 4\n",
       "[2332] 4 4 4 4 4 4 4 4 4 4 4 4 4 4 4 1 1 1 1 1 1 1 1 1 1 4 4 5 4 4 4 4 4 5 5 5 5\n",
       "[2369] 4 4 4 4 4 4 5 4 4 4 4 4 5 4 4 4 2 4 4 4 4 4 4 4 4 4 4 4 4 4 4 4 4 4 4 4 4\n",
       "[2406] 4 4 4 4 4 4 4 4 4 4 4 4 4 4 4 4 4 4 1 4 4 4 4 4 4 4 4 4 2 2 2 2 5 5 4 5 4\n",
       "[2443] 3 4 4 4 4 4 4 4 4 4 4 4 4 4 4 4 4 4 4 4 4 4 4 3 4 4 4 4 4 4 5 4 4 4 4 4 5\n",
       "[2480] 5 4 4 4 4 4 4 4 4 4 4 4 4 4 4 5 5 4 4 4 4 4 4 4 4 4 5 4 4 4 4 4 4 4 4 4 4\n",
       "[2517] 4 4 4 4 2 2 4 4 4 4 5 2 4 2 2 2 4 5 4 4 4 4 4 4 5 4 4 4 4 2 4 4 5 4 3 3 4\n",
       "[2554] 5 4 4 4 4 4 4 4 4 4 4 4 4 4 4 4 4 2 2 4 4 4 4 4 4 4 4 5 4 4 4 4 4 4 4 4 2\n",
       "[2591] 1 1 4 4 4 4 4 4 4 4 4 4 4 4 4 4 4 4 4 4 4 4 4 4 4 4 4 4 4 4 1 1 4 4 4 4 4\n",
       "[2628] 4 4 4 4 4 4 4 4 4 4 4 4 4 4 4 4 4 4 4 4 4 4 4 4 4 4 4 4 4 4 4 4 4 4 4 4 4\n",
       "[2665] 4 4 3 1 4 4 4 4 4 4 4 4 4 4 4 4 4 4 4 4 4 4 4 4 4 4 4 4 4 4 4 4 4 4 4 4 4\n",
       "[2702] 4 4 4 2 4 4 4 4 2 2 5 4 4 4 4 5 5 4 4 2 2 2 2 2 2 5 4 2 2 2 2 2 2 2 2 4 4\n",
       "[2739] 4 4 4 4 4 4 4 4 4 4 4 4 4 4 5 4 4 4 4 4 4 4 4 4 5 4 4 4 4 4 4 4 4 4 4 4 4\n",
       "[2776] 4 4 4 4 4 4 4 4 4 4 4 4 1 5 4 4 4 4 4 4 4 4 4 4 4 4 4 4 4 4 4 4 4 4 4 4 4\n",
       "[2813] 4 4 4 4 4 4 4 4 4 4 4 4 4 4 4 4 4 4 4 4 4 4 4 4 4 4 4 4 4 4 4 4 4 4 4 4 4\n",
       "[2850] 4 4 4 4 5 4 4 4 4 4 4 4 4 4 4 4 4 4 4 4 4 4 4 4 4 4 4 4 4 4 4 4 1 4 4 4 1\n",
       "[2887] 4 4 4 1 5 4 4 4 4 4 4 4 4 4 4 4 4 4 4 2 4 4 4 4 4 4 4 4 4 4 4 4 4 4 4 4 4\n",
       "[2924] 4 4 4 4 4 4 4 4 5 4 3 5 4 4 4 4 4 4 4 4 4 4 4 4 4 4 4 4 4 4 4 4 4 4 4 4 4\n",
       "[2961] 4 4 4 4 4 4 4 4 4 4 5 4 4 4 4 4 4 1 5 4 4 4 4 4 5 2 4 5 5 4 4 4 4 4 4 4 4\n",
       "[2998] 4 4 4 4 4 4 4 4 4 4 4 4 4 4 2 2 4 2 2 4 4 4 4 4 4 4 4 4 4 4 4 4 4 2 2 5 4\n",
       "[3035] 4 4 5 4 4 4 4 4 4 4 4 4 4 4 4 4 4 4 4 4 4 4 4 4 4 4 4 4 4 4 4 4 4 4 4 4 4\n",
       "[3072] 4 4 4 4 4 4 4 4 4 4 4 4 4 4 4 4 4 4 4 4 4 4 4 4 4 4 2 4 4 4 4 4 4 4 2 4 4\n",
       "[3109] 4 4 4 4 4 4 4 4 4 4 4 4 4 4 4 4 4 4 4 4 4 4 4 4 4 4 4 4 4 4 4 4 4 2 2 5 4\n",
       "[3146] 4 4 4 4 4 4 4 4 4 4 4 4 4 4 4 4 4 4 4 4 4 4 4 4 4 2 4 4 4 4 4 4 4 4 4 4 4\n",
       "[3183] 4 4 4 4 4 4 4 4 4 4 4 1 4 4 4 4 4 1 5 4 4 4 4 4 4 4 4 4 4 4 4 4 4 4 4 4 4\n",
       "[3220] 4 5 5 5 4 4 1 4 1 4 4 4 4 4 4 4 4 4 4 4 4 4 4 4 4 4 4 4 4 4 4 4 4 4 4 4 4\n",
       "[3257] 4 4 4 4 4 4 4 4 4 4 4 4 1 1 4 4 4 4 5 5 4 2 4 4 5 4 4 4 4 4 5 4 4 4 4 4 5\n",
       "[3294] 1 4 5 4 4 4 4 4\n",
       "\n",
       "Within cluster sum of squares by cluster:\n",
       "[1] 2.601135e-04 5.155474e-03 2.353788e-02 7.382985e-24 4.422128e-04\n",
       " (between_SS / total_SS =  97.0 %)\n",
       "\n",
       "Available components:\n",
       "\n",
       "[1] \"cluster\"      \"centers\"      \"totss\"        \"withinss\"     \"tot.withinss\"\n",
       "[6] \"betweenss\"    \"size\"         \"iter\"         \"ifault\"      "
      ]
     },
     "metadata": {},
     "output_type": "display_data"
    }
   ],
   "source": [
    "score_clusters"
   ]
  },
  {
   "cell_type": "code",
   "execution_count": null,
   "metadata": {
    "collapsed": true
   },
   "outputs": [],
   "source": []
  }
 ],
 "metadata": {
  "kernelspec": {
   "display_name": "R",
   "language": "R",
   "name": "ir"
  },
  "language_info": {
   "codemirror_mode": "r",
   "file_extension": ".r",
   "mimetype": "text/x-r-source",
   "name": "R",
   "pygments_lexer": "r",
   "version": "3.3.1"
  }
 },
 "nbformat": 4,
 "nbformat_minor": 0
}
